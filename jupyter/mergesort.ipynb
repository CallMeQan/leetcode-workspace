{
 "cells": [
  {
   "cell_type": "code",
   "execution_count": 3,
   "metadata": {},
   "outputs": [],
   "source": [
    "import random\n",
    "\n",
    "max_a = 1000\n",
    "min_a = 1\n",
    "size = 100\n",
    "a = [random.randint(min_a, max_a) for i in range(size)]"
   ]
  },
  {
   "cell_type": "code",
   "execution_count": 4,
   "metadata": {},
   "outputs": [],
   "source": [
    "def _merge(left, right):\n",
    "        result = []\n",
    "        i = j = 0\n",
    "        while i < len(left) and j < len(right):\n",
    "            if left[i] < right[j]:\n",
    "                result.append(left[i])\n",
    "                i += 1\n",
    "            else:\n",
    "                result.append(right[j])\n",
    "                j += 1\n",
    "        result += left[i:]\n",
    "        result += right[j:]\n",
    "        return result\n",
    "def merge_sort_with_recursive_splitting(arr):\n",
    "    if len(arr) <= 1:\n",
    "        return arr\n",
    "    mid = len(arr) // 2\n",
    "    left = merge_sort_with_recursive_splitting(arr[:mid])\n",
    "    right = merge_sort_with_recursive_splitting(arr[mid:])\n",
    "    return _merge(left, right)"
   ]
  },
  {
   "cell_type": "code",
   "execution_count": 5,
   "metadata": {},
   "outputs": [],
   "source": [
    "def normal_merge_sort(arr):\n",
    "    if len(arr) <= 1:\n",
    "        return arr\n",
    "    mid = len(arr) // 2\n",
    "    left_half = normal_merge_sort(arr[:mid])\n",
    "    right_half = normal_merge_sort(arr[mid:])\n",
    "    return merge(left_half, right_half)\n",
    "\n",
    "def merge(u, v):\n",
    "    z = []\n",
    "    while len(u) > 0 and len(v) > 0:\n",
    "        if u[0] <= v[0]:\n",
    "            z.append(u.pop(0))\n",
    "        else:\n",
    "            z.append(v.pop(0))\n",
    "    \n",
    "    z.extend(u)\n",
    "    z.extend(v)\n",
    "    return z"
   ]
  },
  {
   "cell_type": "code",
   "execution_count": 6,
   "metadata": {},
   "outputs": [
    {
     "name": "stdout",
     "output_type": "stream",
     "text": [
      "[2, 6, 6, 16, 20, 24, 34, 36, 42, 46, 52, 62, 98, 98, 111, 175, 204, 206, 208, 209, 235, 236, 239, 247, 250, 253, 263, 265, 270, 276, 302, 302, 313, 315, 322, 348, 355, 370, 373, 402, 403, 408, 412, 428, 436, 474, 477, 493, 495, 498, 513, 524, 528, 544, 564, 592, 596, 597, 612, 617, 669, 677, 679, 699, 700, 704, 712, 714, 720, 722, 723, 725, 729, 746, 766, 767, 775, 779, 780, 791, 822, 823, 850, 856, 860, 861, 863, 865, 870, 889, 897, 905, 912, 922, 925, 937, 943, 956, 957, 966]\n",
      "Recursive splitting took:  0.0009953975677490234\n",
      "[2, 6, 6, 16, 20, 24, 34, 36, 42, 46, 52, 62, 98, 98, 111, 175, 204, 206, 208, 209, 235, 236, 239, 247, 250, 253, 263, 265, 270, 276, 302, 302, 313, 315, 322, 348, 355, 370, 373, 402, 403, 408, 412, 428, 436, 474, 477, 493, 495, 498, 513, 524, 528, 544, 564, 592, 596, 597, 612, 617, 669, 677, 679, 699, 700, 704, 712, 714, 720, 722, 723, 725, 729, 746, 766, 767, 775, 779, 780, 791, 822, 823, 850, 856, 860, 861, 863, 865, 870, 889, 897, 905, 912, 922, 925, 937, 943, 956, 957, 966]\n",
      "Normal merge took:  0.0\n"
     ]
    }
   ],
   "source": [
    "import time\n",
    "\n",
    "start = time.time()\n",
    "arr1 = merge_sort_with_recursive_splitting(a)\n",
    "print(arr1)\n",
    "print(\"Recursive splitting took: \", time.time() - start)\n",
    "\n",
    "start = time.time()\n",
    "arr2 = normal_merge_sort(a)\n",
    "print(arr2)\n",
    "print(\"Normal merge took: \", time.time() - start)\n"
   ]
  }
 ],
 "metadata": {
  "kernelspec": {
   "display_name": "venv",
   "language": "python",
   "name": "python3"
  },
  "language_info": {
   "codemirror_mode": {
    "name": "ipython",
    "version": 3
   },
   "file_extension": ".py",
   "mimetype": "text/x-python",
   "name": "python",
   "nbconvert_exporter": "python",
   "pygments_lexer": "ipython3",
   "version": "3.12.3"
  }
 },
 "nbformat": 4,
 "nbformat_minor": 2
}
