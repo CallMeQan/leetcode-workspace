{
 "cells": [
  {
   "cell_type": "code",
   "execution_count": 72,
   "metadata": {},
   "outputs": [],
   "source": [
    "import random\n",
    "import time\n",
    "\n",
    "random_array = [random.randint(0, 10000) for _ in range(10000)]\n",
    "random_array.sort()\n",
    "target = random.choice(random_array)"
   ]
  },
  {
   "cell_type": "code",
   "execution_count": 73,
   "metadata": {},
   "outputs": [],
   "source": [
    "def stupid_check(arr, target) -> int | None:\n",
    "    if arr[0] == target:\n",
    "        return 0\n",
    "    elif arr[len(arr)-1] == target:\n",
    "        return len(arr) - 1\n",
    "    return None"
   ]
  },
  {
   "cell_type": "code",
   "execution_count": 74,
   "metadata": {},
   "outputs": [
    {
     "name": "stdout",
     "output_type": "stream",
     "text": [
      "Target 8458 found at index 8458 using binary search\n",
      "Time taken for binary search: 0.00099682807922363281 seconds\n"
     ]
    }
   ],
   "source": [
    "def binary_search(arr, target):\n",
    "    if (result := stupid_check(arr, target)) is not None:\n",
    "        return result\n",
    "\n",
    "    left, right = 0, len(arr) - 1\n",
    "    while left <= right:\n",
    "        mid = (left + right) // 2\n",
    "        if arr[mid] == target:\n",
    "            return mid\n",
    "        elif arr[mid] < target:\n",
    "            left = mid + 1\n",
    "        else:\n",
    "            right = mid - 1\n",
    "    return -1\n",
    "\n",
    "# Example usage\n",
    "start_time = time.time()\n",
    "index = binary_search(random_array, target)\n",
    "end_time = time.time()\n",
    "elapsed_time = end_time - start_time\n",
    "\n",
    "print(f\"Target {target} found at index {index} using binary search\")\n",
    "print(f\"Time taken for binary search: {elapsed_time:.20f} seconds\")"
   ]
  },
  {
   "cell_type": "code",
   "execution_count": 75,
   "metadata": {},
   "outputs": [
    {
     "name": "stdout",
     "output_type": "stream",
     "text": [
      "Target 8458 found at index 8458 using linear search\n",
      "Time taken for linear search: 0.00000000000000000000 seconds\n"
     ]
    }
   ],
   "source": [
    "def linear_search(arr, target):\n",
    "    if (result := stupid_check(arr, target)) is not None:\n",
    "        return result\n",
    "    for i in range(len(arr)):\n",
    "        if arr[i] == target:\n",
    "            return i\n",
    "    return -1\n",
    "\n",
    "# Example usage\n",
    "start_time_linear = time.time()\n",
    "index_linear = linear_search(random_array, target)\n",
    "end_time_linear = time.time()\n",
    "elapsed_time_linear = end_time_linear - start_time_linear\n",
    "\n",
    "print(f\"Target {target} found at index {index_linear} using linear search\")\n",
    "print(f\"Time taken for linear search: {elapsed_time_linear:.20f} seconds\")"
   ]
  },
  {
   "cell_type": "code",
   "execution_count": 76,
   "metadata": {},
   "outputs": [
    {
     "name": "stdout",
     "output_type": "stream",
     "text": [
      "Target 8458 found at index 8458 using Fibonacci search\n",
      "Time taken for Fibonacci search: 0.00000000000000000000 seconds\n"
     ]
    }
   ],
   "source": [
    "def fibonacci_search(arr, target):\n",
    "    if (result := stupid_check(arr, target)) is not None:\n",
    "        return result\n",
    "    fib_m2 = 0  # (m-2)'th Fibonacci number\n",
    "    fib_m1 = 1  # (m-1)'th Fibonacci number\n",
    "    fib_m = fib_m2 + fib_m1  # m'th Fibonacci number\n",
    "\n",
    "    n = len(arr)\n",
    "\n",
    "    while fib_m < n:\n",
    "        fib_m2 = fib_m1\n",
    "        fib_m1 = fib_m\n",
    "        fib_m = fib_m2 + fib_m1\n",
    "\n",
    "    offset = -1\n",
    "\n",
    "    while fib_m > 1:\n",
    "        i = min(offset + fib_m2, n - 1)\n",
    "\n",
    "        if arr[i] < target:\n",
    "            fib_m = fib_m1\n",
    "            fib_m1 = fib_m2\n",
    "            fib_m2 = fib_m - fib_m1\n",
    "            offset = i\n",
    "        elif arr[i] > target:\n",
    "            fib_m = fib_m2\n",
    "            fib_m1 = fib_m1 - fib_m2\n",
    "            fib_m2 = fib_m - fib_m1\n",
    "        else:\n",
    "            return i\n",
    "\n",
    "    if fib_m1 and offset + 1 < n and arr[offset + 1] == target:\n",
    "        return offset + 1\n",
    "\n",
    "    return -1\n",
    "\n",
    "# Example usage\n",
    "start_time_fib = time.time()\n",
    "index_fib = fibonacci_search(random_array, target)\n",
    "end_time_fib = time.time()\n",
    "elapsed_time_fib = end_time_fib - start_time_fib\n",
    "\n",
    "print(f\"Target {target} found at index {index_fib} using Fibonacci search\")\n",
    "print(f\"Time taken for Fibonacci search: {elapsed_time_fib:.20f} seconds\")"
   ]
  },
  {
   "cell_type": "code",
   "execution_count": 77,
   "metadata": {},
   "outputs": [
    {
     "name": "stdout",
     "output_type": "stream",
     "text": [
      "Target 8458 found at index 8458 using exponential search\n",
      "Time taken for exponential search: 0.00000000000000000000 seconds\n"
     ]
    }
   ],
   "source": [
    "def exponential_search(arr, target):\n",
    "    if (result := stupid_check(arr, target)) is not None:\n",
    "        return result\n",
    "\n",
    "    n = len(arr)\n",
    "    i = 1\n",
    "    while i < n and arr[i] <= target:\n",
    "        i = i * 2\n",
    "\n",
    "    return binary_search(arr[:min(i, n)], target)\n",
    "\n",
    "# Example usage\n",
    "start_time_exp = time.time()\n",
    "index_exp = exponential_search(random_array, target)\n",
    "end_time_exp = time.time()\n",
    "elapsed_time_exp = end_time_exp - start_time_exp\n",
    "\n",
    "print(f\"Target {target} found at index {index_exp} using exponential search\")\n",
    "print(f\"Time taken for exponential search: {elapsed_time_exp:.20f} seconds\")"
   ]
  }
 ],
 "metadata": {
  "kernelspec": {
   "display_name": "venv",
   "language": "python",
   "name": "python3"
  },
  "language_info": {
   "codemirror_mode": {
    "name": "ipython",
    "version": 3
   },
   "file_extension": ".py",
   "mimetype": "text/x-python",
   "name": "python",
   "nbconvert_exporter": "python",
   "pygments_lexer": "ipython3",
   "version": "3.12.3"
  }
 },
 "nbformat": 4,
 "nbformat_minor": 2
}
