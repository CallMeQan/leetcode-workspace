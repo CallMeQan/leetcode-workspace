{
  "cells": [
    {
      "cell_type": "code",
      "source": [
        "import pandas as pd\n",
        "import numpy as np\n",
        "\n",
        "\"\"\"\n",
        "Please upload files 'API_SP.POP.TOTL_DS2_en_csv_v2_9949.csv' and 'Metadata_Country_API_SP.POP.TOTL_DS2_en_csv_v2_9949.csv'\n",
        "to the content folder\n",
        "\"\"\"\n",
        "\n",
        "# Thông tin ban đầu\n",
        "destination = '\\\\content'\n",
        "col = list(range(4,68))\n",
        "col = [0] + col\n",
        "\n",
        "df = pd.read_csv(f\"/content/API_SP.POP.TOTL_DS2_en_csv_v2_9949.csv\", usecols = col, skiprows = 4)\n",
        "\n",
        "# Tạo list các quốc gia từ file\n",
        "df1 = pd.read_csv(f\"/content/Metadata_Country_API_SP.POP.TOTL_DS2_en_csv_v2_9949.csv\", usecols = [1, 4])\n",
        "df1 = df1.where(df1['Region'] != np.nan).dropna()\n",
        "countries = list(df1['TableName'])\n",
        "\n",
        "# Xử lý thông tin: trên 50 triệu, là quốc gia\n",
        "threshold = 50000000\n",
        "df = df.where(df['2015'] > threshold).dropna()\n",
        "df = df.where(df['Country Name'].isin(countries)).dropna()\n",
        "\n",
        "year2012 = df['2012']\n",
        "year2014 = df['2014']\n",
        "\n",
        "label = list(df['Country Name'])\n",
        "year2012 = np.array(year2012)\n",
        "year2014 = np.array(year2014)\n",
        "\n",
        "growth = year2014-year2012\n",
        "growth_percentage = (year2014/year2012)\n",
        "\n",
        "mg_i = np.argmax(growth)\n",
        "mgp_i = np.argmax(growth_percentage)\n",
        "\n",
        "print(f'Trong các quốc gia trên 50 triệu người vào 2015, từ 2012 đến 2014: ')\n",
        "print(f'   + QG có mức gia tăng dân số tuyệt đối cao nhất: {label[mg_i]} với mức tăng {int(growth[mg_i])} dân.')\n",
        "print(f'   + QG có tốc độ gia tăng dân số cao nhất: {label[mgp_i]} với mức tăng {round(growth_percentage[mgp_i]*100,2)}%.')"
      ],
      "metadata": {
        "colab": {
          "base_uri": "https://localhost:8080/"
        },
        "id": "NlrMm-gAEFvI",
        "outputId": "4213e396-9e0a-440f-dac7-a45386375857"
      },
      "execution_count": null,
      "outputs": [
        {
          "output_type": "stream",
          "name": "stdout",
          "text": [
            "Trong các quốc gia trên 50 triệu người vào 2015, từ 2012 đến 2014: \n",
            "   + QG có mức gia tăng dân số tuyệt đối cao nhất: India với mức tăng 32759294 dân.\n",
            "   + QG có tốc độ gia tăng dân số cao nhất: Congo, Dem. Rep. với mức tăng 107.1%.\n"
          ]
        }
      ]
    }
  ],
  "metadata": {
    "kernelspec": {
      "display_name": "Python 3",
      "language": "python",
      "name": "python3"
    },
    "language_info": {
      "codemirror_mode": {
        "name": "ipython",
        "version": 3
      },
      "file_extension": ".py",
      "mimetype": "text/x-python",
      "name": "python",
      "nbconvert_exporter": "python",
      "pygments_lexer": "ipython3",
      "version": "3.12.7"
    },
    "colab": {
      "provenance": []
    }
  },
  "nbformat": 4,
  "nbformat_minor": 0
}