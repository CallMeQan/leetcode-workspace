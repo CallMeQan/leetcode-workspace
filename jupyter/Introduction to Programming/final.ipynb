{
 "cells": [
  {
   "cell_type": "code",
   "execution_count": null,
   "metadata": {},
   "outputs": [
    {
     "name": "stdout",
     "output_type": "stream",
     "text": [
      "math.sqrt(2): 1.414213562373095\n",
      "2 ** 0.5: 1.414213562373095\n",
      "Difference: 0.000000000000000\n"
     ]
    }
   ],
   "source": [
    "import math\n",
    "mathsqrt = math.sqrt(2)\n",
    "exp = 2 ** 0.5\n",
    "\n",
    "print(f\"math.sqrt(2): {mathsqrt:.15f}\")\n",
    "print(f\"2 ** 0.5: {exp:.15f}\")\n",
    "print(f\"Difference: {abs(mathsqrt - exp):.15f}\")"
   ]
  },
  {
   "cell_type": "code",
   "execution_count": null,
   "metadata": {},
   "outputs": [
    {
     "name": "stdout",
     "output_type": "stream",
     "text": [
      "Selection Sort Time: 0.007001 seconds\n",
      "Merge Sort Time: 0.000999 seconds\n",
      "Tim Sort Time: 0.000000 seconds\n"
     ]
    }
   ],
   "source": [
    "import time\n",
    "import random\n",
    "\n",
    "n = int(input(\"Enter the number of elements: \"))\n",
    "\n",
    "numbers = [random.randint(0, 100*random.randint(1, n)) for _ in range(n)]\n",
    "\n",
    "def selection_sort(arr):\n",
    "    for i in range(len(arr)):\n",
    "        min_idx = i\n",
    "        for j in range(i+1, len(arr)):\n",
    "            if arr[min_idx] > arr[j]:\n",
    "                min_idx = j\n",
    "        arr[i], arr[min_idx] = arr[min_idx], arr[i]\n",
    "\n",
    "def merge_sort(arr):\n",
    "    if len(arr) > 1:\n",
    "        mid = len(arr) // 2\n",
    "        L = arr[:mid]\n",
    "        R = arr[mid:]\n",
    "\n",
    "        merge_sort(L)\n",
    "        merge_sort(R)\n",
    "\n",
    "        i = j = k = 0\n",
    "\n",
    "        while i < len(L) and j < len(R):\n",
    "            if L[i] < R[j]:\n",
    "                arr[k] = L[i]\n",
    "                i += 1\n",
    "            else:\n",
    "                arr[k] = R[j]\n",
    "                j += 1\n",
    "            k += 1\n",
    "\n",
    "        while i < len(L):\n",
    "            arr[k] = L[i]\n",
    "            i += 1\n",
    "            k += 1\n",
    "\n",
    "        while j < len(R):\n",
    "            arr[k] = R[j]\n",
    "            j += 1\n",
    "            k += 1\n",
    "\n",
    "def tim_sort(arr):\n",
    "    arr.sort()\n",
    "\n",
    "def benchmark_sorting_algorithm(sort_func, arr):\n",
    "    start_time = time.time()\n",
    "    sort_func(arr)\n",
    "    end_time = time.time()\n",
    "    return end_time - start_time\n",
    "numbers_copy = numbers.copy()\n",
    "selection_sort_time = benchmark_sorting_algorithm(selection_sort, numbers_copy.copy())\n",
    "print(f\"Selection Sort Time: {selection_sort_time:.6f} seconds\")\n",
    "\n",
    "merge_sort_time = benchmark_sorting_algorithm(merge_sort, numbers_copy.copy())\n",
    "print(f\"Merge Sort Time: {merge_sort_time:.6f} seconds\")\n",
    "\n",
    "tim_sort_time = benchmark_sorting_algorithm(tim_sort, numbers_copy.copy())\n",
    "print(f\"Tim Sort Time: {tim_sort_time:.6f} seconds\")"
   ]
  },
  {
   "cell_type": "code",
   "execution_count": null,
   "metadata": {},
   "outputs": [
    {
     "name": "stdout",
     "output_type": "stream",
     "text": [
      "Dice 1 outcomes: [4, 4, 4, 1, 6, 1, 1, 4, 2, 2, 2, 4, 5, 5, 3, 4, 6, 2, 6, 3, 3, 6, 6, 1, 5, 6, 2, 1, 5, 4, 2, 2, 5, 6, 4, 1, 3, 2, 4, 3, 6, 5, 6, 4, 2, 6, 4, 4, 3, 3, 1, 5, 3, 3, 1, 2, 4, 1, 4, 6, 1, 5, 4, 3, 6, 5, 5, 6, 2, 6, 3, 1, 6, 6, 6, 2, 6, 3, 3, 2, 4, 1, 1, 1, 4, 1, 4, 4, 3, 6, 4, 4, 6, 3, 6, 3, 3, 5, 6, 3, 3, 4, 1, 1, 6, 4, 6, 4, 4, 2, 2, 3, 3, 6, 3, 4, 1, 6, 4, 6, 3, 1, 1, 5, 2, 5, 1, 6, 1, 5, 4, 2, 4, 3, 6, 1, 1, 6, 3, 5, 6, 2, 3, 3, 2, 3, 1, 5, 4, 6, 5, 1, 4, 6, 3, 3, 3, 4, 2, 4, 6, 5, 4, 2, 6, 3, 2, 4, 5, 3, 6, 3, 2, 6, 6, 6, 6, 1, 5, 1, 6, 4, 2, 3, 6, 4, 6, 5, 5, 1, 4, 1, 4, 4, 5, 5, 3, 4, 4, 1, 6, 2, 3, 5, 1, 3, 1, 6, 3, 5, 2, 3, 4, 4, 3, 3, 3, 1, 6, 1, 5, 6, 3, 4, 5, 4, 6, 6, 4, 4, 2, 3, 4, 1, 1, 4, 6, 6, 1, 4, 2, 6, 3, 3, 4, 1, 1, 4, 1, 3, 3, 3, 6, 2, 3, 4, 5, 3, 6, 2, 5, 4, 5, 3, 2, 2, 4, 4, 2, 6, 6, 6, 4, 1, 6, 4, 5, 1, 2, 3, 5, 2, 5, 2, 5, 2, 2, 3, 4, 4, 5, 2, 5, 5, 5, 1, 6, 1, 2, 5]\n",
      "Dice 2 outcomes: [5, 3, 5, 6, 3, 3, 5, 4, 5, 6, 5, 1, 1, 3, 5, 3, 6, 2, 5, 1, 1, 4, 3, 5, 3, 3, 3, 3, 6, 4, 3, 2, 1, 4, 6, 4, 3, 2, 1, 2, 5, 3, 6, 3, 6, 3, 3, 3, 5, 1, 2, 6, 5, 3, 1, 3, 5, 6, 6, 2, 3, 4, 5, 2, 4, 5, 6, 3, 1, 3, 1, 1, 5, 5, 6, 3, 3, 4, 2, 2, 1, 1, 4, 3, 2, 6, 1, 4, 1, 5, 6, 4, 5, 6, 2, 2, 1, 5, 3, 1, 6, 2, 3, 2, 1, 4, 1, 3, 1, 2, 6, 5, 1, 1, 4, 3, 1, 5, 4, 1, 5, 6, 2, 4, 3, 6, 2, 3, 4, 5, 5, 1, 1, 2, 5, 3, 1, 5, 2, 1, 4, 3, 6, 1, 2, 1, 4, 3, 1, 1, 1, 4, 4, 6, 4, 2, 4, 3, 3, 4, 5, 4, 4, 2, 3, 6, 5, 6, 6, 4, 4, 5, 4, 2, 3, 6, 2, 2, 5, 5, 6, 5, 4, 1, 3, 2, 2, 1, 3, 2, 6, 2, 5, 1, 6, 6, 1, 5, 1, 2, 5, 4, 6, 6, 4, 1, 4, 2, 3, 5, 5, 3, 6, 2, 3, 5, 5, 1, 4, 4, 1, 5, 5, 1, 2, 3, 1, 1, 3, 4, 6, 1, 3, 2, 3, 6, 1, 5, 5, 3, 1, 2, 6, 5, 5, 6, 2, 1, 3, 4, 2, 4, 1, 4, 2, 5, 5, 3, 6, 5, 4, 1, 3, 6, 5, 5, 5, 1, 4, 2, 4, 4, 4, 2, 6, 2, 1, 5, 6, 3, 2, 4, 6, 1, 6, 2, 1, 1, 6, 6, 4, 5, 1, 3, 1, 6, 2, 3, 4, 4]\n",
      "Sum of outcomes: [9, 7, 9, 7, 9, 4, 6, 8, 7, 8, 7, 5, 6, 8, 8, 7, 12, 4, 11, 4, 4, 10, 9, 6, 8, 9, 5, 4, 11, 8, 5, 4, 6, 10, 10, 5, 6, 4, 5, 5, 11, 8, 12, 7, 8, 9, 7, 7, 8, 4, 3, 11, 8, 6, 2, 5, 9, 7, 10, 8, 4, 9, 9, 5, 10, 10, 11, 9, 3, 9, 4, 2, 11, 11, 12, 5, 9, 7, 5, 4, 5, 2, 5, 4, 6, 7, 5, 8, 4, 11, 10, 8, 11, 9, 8, 5, 4, 10, 9, 4, 9, 6, 4, 3, 7, 8, 7, 7, 5, 4, 8, 8, 4, 7, 7, 7, 2, 11, 8, 7, 8, 7, 3, 9, 5, 11, 3, 9, 5, 10, 9, 3, 5, 5, 11, 4, 2, 11, 5, 6, 10, 5, 9, 4, 4, 4, 5, 8, 5, 7, 6, 5, 8, 12, 7, 5, 7, 7, 5, 8, 11, 9, 8, 4, 9, 9, 7, 10, 11, 7, 10, 8, 6, 8, 9, 12, 8, 3, 10, 6, 12, 9, 6, 4, 9, 6, 8, 6, 8, 3, 10, 3, 9, 5, 11, 11, 4, 9, 5, 3, 11, 6, 9, 11, 5, 4, 5, 8, 6, 10, 7, 6, 10, 6, 6, 8, 8, 2, 10, 5, 6, 11, 8, 5, 7, 7, 7, 7, 7, 8, 8, 4, 7, 3, 4, 10, 7, 11, 6, 7, 3, 8, 9, 8, 9, 7, 3, 5, 4, 7, 5, 7, 7, 6, 5, 9, 10, 6, 12, 7, 9, 5, 8, 9, 7, 7, 9, 5, 6, 8, 10, 10, 8, 3, 12, 6, 6, 6, 8, 6, 7, 6, 11, 3, 11, 4, 3, 4, 10, 10, 9, 7, 6, 8, 6, 7, 8, 4, 6, 9]\n",
      "Counts of sums from 2 to 12: {2: 6, 3: 16, 4: 32, 5: 37, 6: 33, 7: 44, 8: 42, 9: 36, 10: 23, 11: 23, 12: 8}\n"
     ]
    }
   ],
   "source": [
    "import random\n",
    "N = int(input(\"Enter the number of dice rolls: \"))\n",
    "\n",
    "dice1 = [random.randint(1, 6) for _ in range(N)]\n",
    "dice2 = [random.randint(1, 6) for _ in range(N)]\n",
    "dice_sum = [dice1[i] + dice2[i] for i in range(N)]\n",
    "sum_counts = {i: dice_sum.count(i) for i in range(2, 13)}\n",
    "\n",
    "print(f\"Dice 1 outcomes: {dice1}\")\n",
    "print(f\"Dice 2 outcomes: {dice2}\")\n",
    "print(f\"Sum of outcomes: {dice_sum}\")\n",
    "print(f\"Counts of sums from 2 to 12: {sum_counts}\")"
   ]
  },
  {
   "cell_type": "code",
   "execution_count": 5,
   "metadata": {},
   "outputs": [
    {
     "name": "stdout",
     "output_type": "stream",
     "text": [
      "bts, 3\n"
     ]
    }
   ],
   "source": [
    "sentence = input(\"Enter a sentence: \")\n",
    "word = input(\"Enter a word to search for: \")\n",
    "\n",
    "words = sentence.split()\n",
    "positions = [i + 1 for i, w in enumerate(words) if w == word]\n",
    "\n",
    "print(f\"{word}, {', '.join(map(str, positions))}\")"
   ]
  },
  {
   "cell_type": "code",
   "execution_count": 2,
   "metadata": {},
   "outputs": [
    {
     "name": "stdout",
     "output_type": "stream",
     "text": [
      "873\n",
      "83\n"
     ]
    }
   ],
   "source": [
    "def extract_digits(number, direction, num_digits):\n",
    "    number_str = str(number)\n",
    "    if direction.lower() == 'left':\n",
    "        result = number_str[:num_digits]\n",
    "    elif direction.lower() == 'right':\n",
    "        result = number_str[-num_digits:]\n",
    "    else:\n",
    "        result = \"Invalid direction\"\n",
    "    return result\n",
    "\n",
    "number = int(input(\"Enter a number: \"))\n",
    "while True:\n",
    "    try:\n",
    "        direction = input(\"Enter a direction (left or right): \")\n",
    "        num_digits = int(input(\"Enter the number of digits: \"))\n",
    "        print(extract_digits(number, direction, num_digits))\n",
    "    except ValueError:\n",
    "        break"
   ]
  },
  {
   "cell_type": "code",
   "execution_count": null,
   "metadata": {},
   "outputs": [],
   "source": [
    "from datetime import datetime, timedelta\n",
    "\n",
    "date_str = input(\"Enter a date (DD/MM/YYYY): \")\n",
    "date_obj = datetime.strptime(date_str, \"%d/%m/%Y\")\n",
    "\n",
    "tomorrow = date_obj + timedelta(days=1)\n",
    "day_after_tomorrow = date_obj + timedelta(days=2)\n",
    "yesterday = date_obj - timedelta(days=1)\n",
    "day_before_yesterday = date_obj - timedelta(days=2)\n",
    "\n",
    "selection = input(\"Enter your selection (tomorrow, day after tomorrow, yesterday, day before yesterday): \").lower()\n",
    "\n",
    "if selection == \"tomorrow\":\n",
    "    print(f\"Tomorrow: {tomorrow.strftime('%d/%m/%Y')}\")\n",
    "elif selection == \"day after tomorrow\":\n",
    "    print(f\"Day after tomorrow: {day_after_tomorrow.strftime('%d/%m/%Y')}\")\n",
    "elif selection == \"yesterday\":\n",
    "    print(f\"Yesterday: {yesterday.strftime('%d/%m/%Y')}\")\n",
    "elif selection == \"day before yesterday\":\n",
    "    print(f\"Day before yesterday: {day_before_yesterday.strftime('%d/%m/%Y')}\")\n",
    "else:\n",
    "    print(\"Invalid selection\")"
   ]
  },
  {
   "cell_type": "code",
   "execution_count": 3,
   "metadata": {},
   "outputs": [
    {
     "name": "stdout",
     "output_type": "stream",
     "text": [
      "Linear Search Time: 0.000000 seconds, Result: 420\n",
      "Binary Search Time: 0.000000 seconds, Result: 420\n",
      "Interpolation Search Time: 0.000000 seconds, Result: 420\n",
      "Jump Search Time: 0.000000 seconds, Result: 420\n"
     ]
    }
   ],
   "source": [
    "import time\n",
    "import random\n",
    "import math\n",
    "n = int(input(\"Enter the number of elements: \"))\n",
    "\n",
    "sorted_numbers = sorted([random.randint(0, 100*random.randint(1, n)) for _ in range(n)])\n",
    "\n",
    "# Linear Search\n",
    "def linear_search(arr, x):\n",
    "    for i in range(len(arr)):\n",
    "        if arr[i] == x:\n",
    "            return i\n",
    "    return -1\n",
    "\n",
    "# Binary Search\n",
    "def binary_search(arr, x):\n",
    "    l, r = 0, len(arr) - 1\n",
    "    while l <= r:\n",
    "        mid = l + (r - l) // 2\n",
    "        if arr[mid] == x:\n",
    "            return mid\n",
    "        elif arr[mid] < x:\n",
    "            l = mid + 1\n",
    "        else:\n",
    "            r = mid - 1\n",
    "    return -1\n",
    "\n",
    "# Interpolation Search\n",
    "def interpolation_search(arr, x):\n",
    "    lo, hi = 0, len(arr) - 1\n",
    "    while lo <= hi and x >= arr[lo] and x <= arr[hi]:\n",
    "        if lo == hi:\n",
    "            if arr[lo] == x:\n",
    "                return lo\n",
    "            return -1\n",
    "        pos = lo + ((hi - lo) // (arr[hi] - arr[lo]) * (x - arr[lo]))\n",
    "        if arr[pos] == x:\n",
    "            return pos\n",
    "        if arr[pos] < x:\n",
    "            lo = pos + 1\n",
    "        else:\n",
    "            hi = pos - 1\n",
    "    return -1\n",
    "\n",
    "# Jump Search\n",
    "def jump_search(arr, x):\n",
    "    n = len(arr)\n",
    "    step = int(math.sqrt(n))\n",
    "    prev = 0\n",
    "    while arr[min(step, n) - 1] < x:\n",
    "        prev = step\n",
    "        step += int(math.sqrt(n))\n",
    "        if prev >= n:\n",
    "            return -1\n",
    "    while arr[prev] < x:\n",
    "        prev += 1\n",
    "        if prev == min(step, n):\n",
    "            return -1\n",
    "    if arr[prev] == x:\n",
    "        return prev\n",
    "    return -1\n",
    "\n",
    "# Benchmarking function\n",
    "def benchmark_search_algorithm(search_func, arr, x):\n",
    "    start_time = time.time()\n",
    "    result = search_func(arr, x)\n",
    "    end_time = time.time()\n",
    "    return end_time - start_time, result\n",
    "\n",
    "# Number to search for\n",
    "search_number = sorted_numbers[random.randint(0, len(sorted_numbers) - 1)]\n",
    "\n",
    "# Benchmark each search algorithm\n",
    "linear_search_time, linear_search_result = benchmark_search_algorithm(linear_search, sorted_numbers, search_number)\n",
    "binary_search_time, binary_search_result = benchmark_search_algorithm(binary_search, sorted_numbers, search_number)\n",
    "interpolation_search_time, interpolation_search_result = benchmark_search_algorithm(interpolation_search, sorted_numbers, search_number)\n",
    "jump_search_time, jump_search_result = benchmark_search_algorithm(jump_search, sorted_numbers, search_number)\n",
    "\n",
    "print(f\"Linear Search Time: {linear_search_time:.6f} seconds, Result: {linear_search_result}\")\n",
    "print(f\"Binary Search Time: {binary_search_time:.6f} seconds, Result: {binary_search_result}\")\n",
    "print(f\"Interpolation Search Time: {interpolation_search_time:.6f} seconds, Result: {interpolation_search_result}\")\n",
    "print(f\"Jump Search Time: {jump_search_time:.6f} seconds, Result: {jump_search_result}\")"
   ]
  },
  {
   "cell_type": "code",
   "execution_count": null,
   "metadata": {},
   "outputs": [],
   "source": [
    "def count_digits(number):\n",
    "    if number == 0:\n",
    "        return 1\n",
    "    count = 0\n",
    "    while number != 0:\n",
    "        number //= 10\n",
    "        count += 1\n",
    "    return count\n",
    "\n",
    "number = int(input(\"Enter a number: \"))\n",
    "digit_count = count_digits(number)\n",
    "print(f\"Number of digits in {number}: {digit_count}\")"
   ]
  },
  {
   "cell_type": "code",
   "execution_count": 4,
   "metadata": {},
   "outputs": [
    {
     "name": "stdout",
     "output_type": "stream",
     "text": [
      "Calculated Pi: 3.141591653589774\n",
      "Math module Pi: 3.141592653589793\n",
      "Difference: 0.000001000000019\n"
     ]
    }
   ],
   "source": [
    "import math\n",
    "\n",
    "# Calculate Pi using the Leibniz formula for π\n",
    "def calculate_pi_leibniz(terms):\n",
    "    pi = 0\n",
    "    for k in range(terms):\n",
    "        pi += ((-1) ** k) / (2 * k + 1)\n",
    "    return 4 * pi\n",
    "\n",
    "# Number of terms for the Leibniz formula\n",
    "terms = 1000000\n",
    "calculated_pi = calculate_pi_leibniz(terms)\n",
    "\n",
    "# Compare with math.pi\n",
    "print(f\"Calculated Pi: {calculated_pi:.15f}\")\n",
    "print(f\"Math module Pi: {math.pi:.15f}\")\n",
    "print(f\"Difference: {abs(calculated_pi - math.pi):.15f}\")"
   ]
  },
  {
   "cell_type": "code",
   "execution_count": 6,
   "metadata": {},
   "outputs": [
    {
     "data": {
      "image/png": "[encoded data removed]",
      "text/plain": [
       "<Figure size 640x480 with 1 Axes>"
      ]
     },
     "metadata": {},
     "output_type": "display_data"
    }
   ],
   "source": [
    "import numpy as np\n",
    "\n",
    "import matplotlib.pyplot as plt\n",
    "\n",
    "N = int(input(\"Enter the number of points: \"))\n",
    "points = np.random.rand(N, 2)\n",
    "\n",
    "# Calculate the distance between each pair of points\n",
    "distances = np.sqrt((points[:, np.newaxis, 0] - points[np.newaxis, :, 0]) ** 2 +\n",
    "                    (points[:, np.newaxis, 1] - points[np.newaxis, :, 1]) ** 2)\n",
    "\n",
    "# Find the indices of the two points with the greatest distance\n",
    "i, j = np.unravel_index(np.argmax(distances), distances.shape)\n",
    "\n",
    "# Plot all points\n",
    "plt.scatter(points[:, 0], points[:, 1], s=10, color='blue')\n",
    "\n",
    "# Highlight the two points with the greatest distance\n",
    "plt.scatter(points[i, 0], points[i, 1], s=100, color='red')\n",
    "plt.scatter(points[j, 0], points[j, 1], s=100, color='red')\n",
    "\n",
    "plt.xlabel('X')\n",
    "plt.ylabel('Y')\n",
    "plt.title('Points with the Greatest Distance Highlighted')\n",
    "plt.show()"
   ]
  },
  {
   "cell_type": "code",
   "execution_count": 7,
   "metadata": {},
   "outputs": [
    {
     "name": "stdout",
     "output_type": "stream",
     "text": [
      "conc-a-cwjk\n"
     ]
    }
   ],
   "source": [
    "def hyphenate_string(s):\n",
    "    length = len(s)\n",
    "    if length % 2 == 0:\n",
    "        mid = length // 2\n",
    "        return s[:mid] + '-' + s[mid:]\n",
    "    else:\n",
    "        mid = length // 2\n",
    "        return s[:mid] + '-' + s[mid] + '-' + s[mid+1:]\n",
    "\n",
    "input_string = input(\"Enter a string: \")\n",
    "hyphenated_string = hyphenate_string(input_string)\n",
    "print(hyphenated_string)"
   ]
  }
 ],
 "metadata": {
  "kernelspec": {
   "display_name": "venv",
   "language": "python",
   "name": "python3"
  },
  "language_info": {
   "codemirror_mode": {
    "name": "ipython",
    "version": 3
   },
   "file_extension": ".py",
   "mimetype": "text/x-python",
   "name": "python",
   "nbconvert_exporter": "python",
   "pygments_lexer": "ipython3",
   "version": "3.12.3"
  }
 },
 "nbformat": 4,
 "nbformat_minor": 2
}
