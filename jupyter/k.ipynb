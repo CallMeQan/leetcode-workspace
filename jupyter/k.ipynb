{
 "cells": [
  {
   "cell_type": "code",
   "execution_count": 5,
   "metadata": {},
   "outputs": [
    {
     "name": "stdout",
     "output_type": "stream",
     "text": [
      "a\n",
      "b\n"
     ]
    },
    {
     "ename": "TypeError",
     "evalue": "K.a() missing 2 required positional arguments: 'self' and '_'",
     "output_type": "error",
     "traceback": [
      "\u001b[1;31m---------------------------------------------------------------------------\u001b[0m",
      "\u001b[1;31mTypeError\u001b[0m                                 Traceback (most recent call last)",
      "Cell \u001b[1;32mIn[5], line 14\u001b[0m\n\u001b[0;32m     12\u001b[0m new_obct\u001b[38;5;241m.\u001b[39ma(\u001b[38;5;241m1\u001b[39m)\n\u001b[0;32m     13\u001b[0m new_obct\u001b[38;5;241m.\u001b[39mb()\n\u001b[1;32m---> 14\u001b[0m \u001b[43mK\u001b[49m\u001b[38;5;241;43m.\u001b[39;49m\u001b[43ma\u001b[49m\u001b[43m(\u001b[49m\u001b[43m)\u001b[49m\n\u001b[0;32m     15\u001b[0m K\u001b[38;5;241m.\u001b[39mb()\n",
      "\u001b[1;31mTypeError\u001b[0m: K.a() missing 2 required positional arguments: 'self' and '_'"
     ]
    }
   ],
   "source": [
    "class K():\n",
    "    def __init__(self):\n",
    "        pass\n",
    "    def a(self, _):\n",
    "        print('a')\n",
    "\n",
    "    @staticmethod\n",
    "    def b():\n",
    "        print('b')\n",
    "\n",
    "new_obct = K()\n",
    "new_obct.a(1)\n",
    "new_obct.b()\n",
    "K.a()\n",
    "K.b()"
   ]
  }
 ],
 "metadata": {
  "kernelspec": {
   "display_name": "venv",
   "language": "python",
   "name": "python3"
  },
  "language_info": {
   "codemirror_mode": {
    "name": "ipython",
    "version": 3
   },
   "file_extension": ".py",
   "mimetype": "text/x-python",
   "name": "python",
   "nbconvert_exporter": "python",
   "pygments_lexer": "ipython3",
   "version": "3.12.3"
  }
 },
 "nbformat": 4,
 "nbformat_minor": 2
}
