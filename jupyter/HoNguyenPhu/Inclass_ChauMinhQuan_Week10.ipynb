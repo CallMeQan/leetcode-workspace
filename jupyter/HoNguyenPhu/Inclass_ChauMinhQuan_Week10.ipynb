{
 "cells": [
  {
   "cell_type": "code",
   "execution_count": 1,
   "metadata": {
    "colab": {
     "base_uri": "https://localhost:8080/"
    },
    "id": "yawcf3cLlKEP",
    "outputId": "01b9596e-3206-415a-fd00-43452189f5e7"
   },
   "outputs": [
    {
     "name": "stdout",
     "output_type": "stream",
     "text": [
      "1/2\n",
      "2\n"
     ]
    }
   ],
   "source": [
    "import numpy as np\n",
    "\n",
    "def multiply_until_no_decimal(num): # AI MADE\n",
    "    \"\"\"Multiplies a float by 10 until there are no decimal places.\n",
    "\n",
    "    Args:\n",
    "      num: The float number to process.\n",
    "\n",
    "    Returns:\n",
    "      A tuple containing the resulting integer and the number of times 10 was multiplied.\n",
    "      Returns None if the input is not a float or if the process fails to terminate\n",
    "      within a reasonable number of iterations.\n",
    "    \"\"\"\n",
    "    if not isinstance(num, float):\n",
    "        return None\n",
    "\n",
    "    multiplier = 1\n",
    "    for _ in range(100):  # Limit iterations to prevent infinite loops\n",
    "        product = num * multiplier\n",
    "        if product == int(product):\n",
    "            return int(product), multiplier\n",
    "        multiplier *= 10\n",
    "    return None  # Failed to terminate within the limit\n",
    "\n",
    "class Fraction:\n",
    "    \"\"\"\n",
    "    Attributes:\n",
    "        numerator (int): The numerator of the fraction.\n",
    "        denominator (int): The denominator of the fraction.\n",
    "    \"\"\"\n",
    "    def __init__(self, numerator : int, denominator : int):\n",
    "        if denominator == 0:\n",
    "            raise ValueError(\"Denominator cannot be zero.\")\n",
    "\n",
    "        self.numerator = numerator\n",
    "        self.denominator = denominator\n",
    "        Fraction._simplify(self)\n",
    "\n",
    "    def __str__(self):\n",
    "        return f\"{self.numerator}/{self.denominator}\"\n",
    "\n",
    "    def __add__(self, other):\n",
    "        if isinstance(self, Fraction) and isinstance(other, Fraction):\n",
    "            new_numerator = self.numerator * other.denominator + self.denominator * other.numerator\n",
    "            new_denominator = self.denominator * other.denominator\n",
    "        elif isinstance(self, Fraction):\n",
    "            other = Fraction.convert_to_Fraction(other)\n",
    "            new_numerator = self.numerator * other.denominator + self.denominator * other.numerator\n",
    "            new_denominator = self.denominator * other.denominator\n",
    "\n",
    "        elif isinstance(other, Fraction):\n",
    "            self = Fraction.convert_to_Fraction(self)\n",
    "            new_numerator = self.numerator * other.denominator + self.denominator * other.numerator\n",
    "            new_denominator = self.denominator * other.denominator\n",
    "\n",
    "        result = Fraction(new_numerator, new_denominator)\n",
    "        result._simplify()\n",
    "        return result\n",
    "\n",
    "    def __sub__(self, other):\n",
    "        if isinstance(self, Fraction) and isinstance(other, Fraction):\n",
    "            new_numerator = self.numerator * other.denominator - self.denominator * other.numerator\n",
    "            new_denominator = self.denominator * other.denominator\n",
    "        elif isinstance(self, Fraction):\n",
    "            other = Fraction.convert_to_Fraction(other)\n",
    "            new_numerator = self.numerator * other.denominator - self.denominator * other.numerator\n",
    "            new_denominator = self.denominator * other.denominator\n",
    "        elif isinstance(other, Fraction):\n",
    "            self = Fraction.convert_to_Fraction(self)\n",
    "            new_numerator = self.numerator * other.denominator - self.denominator * other.numerator\n",
    "            new_denominator = self.denominator * other.denominator\n",
    "\n",
    "        result = Fraction(new_numerator, new_denominator)\n",
    "        result._simplify()\n",
    "        return result\n",
    "\n",
    "    def __mul__(self, other):\n",
    "        if isinstance(self, Fraction) and isinstance(other, Fraction):\n",
    "            new_numerator = self.numerator * other.numerator\n",
    "            new_denominator = self.denominator * other.denominator\n",
    "        elif isinstance(self, Fraction):\n",
    "            other = Fraction.convert_to_Fraction(other)\n",
    "            new_numerator = self.numerator * other.numerator\n",
    "            new_denominator = self.denominator * other.denominator\n",
    "        elif isinstance(other, Fraction):\n",
    "            self = Fraction.convert_to_Fraction(self)\n",
    "            new_numerator = self.numerator * other.numerator\n",
    "            new_denominator = self.denominator * other.denominator\n",
    "        result = Fraction(new_numerator, new_denominator)\n",
    "        result._simplify()\n",
    "        return result\n",
    "\n",
    "    def __truediv__(self, other):\n",
    "        if other.denominator == 0:\n",
    "            raise ValueError(\"Cannot divide by zero.\")\n",
    "\n",
    "        if isinstance(self, Fraction) and isinstance(other, Fraction):\n",
    "            new_numerator = self.numerator * other.denominator\n",
    "            new_denominator = self.denominator * other.numerator\n",
    "        elif isinstance(self, Fraction):\n",
    "            other = Fraction.convert_to_Fraction(other)\n",
    "            new_numerator = self.numerator * other.denominator\n",
    "            new_denominator = self.denominator * other.numerator\n",
    "        elif isinstance(other, Fraction):\n",
    "            self = Fraction.convert_to_Fraction(self)\n",
    "            new_numerator = self.numerator * other.denominator\n",
    "            new_denominator = self.denominator * other.numerator\n",
    "\n",
    "        result = Fraction(new_numerator, new_denominator)\n",
    "        result._simplify()\n",
    "        return result\n",
    "\n",
    "    @staticmethod\n",
    "    def _greatest_common_divisor(numerator : int, denominator : int) -> int:\n",
    "        \"\"\"\n",
    "        Returns the greatest common divisor of the fraction.\n",
    "        \"\"\"\n",
    "        a = abs(numerator)\n",
    "        b = abs(denominator)\n",
    "        r = a%b\n",
    "        while a != b:\n",
    "            if a > b:\n",
    "                a = a - b\n",
    "            else:\n",
    "                b = b - a\n",
    "        return a\n",
    "\n",
    "    def _simplify(self):\n",
    "        \"\"\"\n",
    "        Simplifies the fraction.\n",
    "        \"\"\"\n",
    "        greatest = Fraction._greatest_common_divisor(self.numerator, self.denominator)\n",
    "        self.numerator = int(self.numerator / greatest)\n",
    "        self.denominator = int(self.denominator / greatest)\n",
    "\n",
    "    def negate(self):\n",
    "        \"\"\"\n",
    "        Negates the fraction.\n",
    "        \"\"\"\n",
    "        self.numerator = -self.numerator\n",
    "\n",
    "    def reverse(self):\n",
    "        \"\"\"\n",
    "        Reverses the fraction.\n",
    "        \"\"\"\n",
    "        self.numerator, self.denominator = self.denominator, self.numerator\n",
    "\n",
    "    @staticmethod\n",
    "    def convert_to_Fraction(argument):\n",
    "        \"\"\"\n",
    "        Convert to Fraction\n",
    "        \"\"\"\n",
    "        if not isinstance(argument, Fraction):\n",
    "            if type(argument) == int:\n",
    "                return Fraction(argument, 1)\n",
    "            if type(argument) == float:\n",
    "                nom, den = multiply_until_no_decimal(argument)\n",
    "                return Fraction(nom, den)\n",
    "        else:\n",
    "            raise ValueError(\"False type for fraction.\")\n",
    "\n",
    "a = Fraction(2, 4)\n",
    "b = 2\n",
    "print(a)\n",
    "print(b)"
   ]
  },
  {
   "cell_type": "code",
   "execution_count": null,
   "metadata": {
    "colab": {
     "base_uri": "https://localhost:8080/"
    },
    "id": "iVvrZwFx7Z_u",
    "outputId": "11253de9-c535-4964-b033-e59ec916f105"
   },
   "outputs": [
    {
     "name": "stdout",
     "output_type": "stream",
     "text": [
      "5/3\n"
     ]
    }
   ],
   "source": [
    "print(Fraction(2, 3) + 1)"
   ]
  },
  {
   "cell_type": "code",
   "execution_count": null,
   "metadata": {
    "colab": {
     "base_uri": "https://localhost:8080/"
    },
    "id": "BTsy3RDNlxWy",
    "outputId": "cf392c06-f68a-4635-d9b3-0b3df1cda0fe"
   },
   "outputs": [
    {
     "name": "stdout",
     "output_type": "stream",
     "text": [
      "-3/2\n"
     ]
    }
   ],
   "source": [
    "print(a - b)"
   ]
  },
  {
   "cell_type": "code",
   "execution_count": null,
   "metadata": {
    "colab": {
     "base_uri": "https://localhost:8080/"
    },
    "id": "GjbMOOjXoQa_",
    "outputId": "ee614080-76ae-4b6f-cc59-995758b2fadb"
   },
   "outputs": [
    {
     "name": "stdout",
     "output_type": "stream",
     "text": [
      "5/2\n"
     ]
    }
   ],
   "source": [
    "print(a + b)"
   ]
  },
  {
   "cell_type": "code",
   "execution_count": null,
   "metadata": {
    "colab": {
     "base_uri": "https://localhost:8080/"
    },
    "id": "dfnnAjQgoVvw",
    "outputId": "478d4edb-d9be-47f5-d154-996a2a5d73c9"
   },
   "outputs": [
    {
     "name": "stdout",
     "output_type": "stream",
     "text": [
      "1/1\n"
     ]
    }
   ],
   "source": [
    "print(a*b)"
   ]
  },
  {
   "cell_type": "code",
   "execution_count": null,
   "metadata": {
    "colab": {
     "base_uri": "https://localhost:8080/"
    },
    "id": "Jg3gw3etvLds",
    "outputId": "805c2178-c2a8-4491-a4ef-3d7801f9467e"
   },
   "outputs": [
    {
     "name": "stdout",
     "output_type": "stream",
     "text": [
      "1/4\n"
     ]
    }
   ],
   "source": [
    "print(a/b)"
   ]
  },
  {
   "cell_type": "code",
   "execution_count": null,
   "metadata": {
    "colab": {
     "base_uri": "https://localhost:8080/"
    },
    "id": "Z6agXGevwPj_",
    "outputId": "e04b2790-2a6f-4757-9876-0a7d80abf5be"
   },
   "outputs": [
    {
     "name": "stdout",
     "output_type": "stream",
     "text": [
      "-3/5\n"
     ]
    }
   ],
   "source": [
    "c = Fraction(3, 5)\n",
    "c.negate()\n",
    "print(c)"
   ]
  },
  {
   "cell_type": "code",
   "execution_count": null,
   "metadata": {
    "colab": {
     "base_uri": "https://localhost:8080/"
    },
    "id": "9EBUdQiUvz2y",
    "outputId": "132242d1-f38d-4588-c653-4a3cef1c12a4"
   },
   "outputs": [
    {
     "name": "stdout",
     "output_type": "stream",
     "text": [
      "Enter the numerator of the first fraction: 3\n",
      "Enter the denominator of the first fraction: 4\n",
      "Enter the numerator of the second fraction: 2\n",
      "Enter the denominator of the second fraction: 6\n",
      "Fraction 1: 3/4\n",
      "Fraction 2: 1/3\n",
      "Sum: 13/12\n",
      "Difference: 5/12\n",
      "Product: 1/4\n",
      "Quotient: 9/4\n"
     ]
    }
   ],
   "source": [
    "### AI MADE\n",
    "# Input the first fraction\n",
    "num1 = int(input(\"Enter the numerator of the first fraction: \"))\n",
    "den1 = int(input(\"Enter the denominator of the first fraction: \"))\n",
    "\n",
    "# Input the second fraction\n",
    "num2 = int(input(\"Enter the numerator of the second fraction: \"))\n",
    "den2 = int(input(\"Enter the denominator of the second fraction: \"))\n",
    "\n",
    "try:\n",
    "    fraction1 = Fraction(num1, den1)\n",
    "    fraction2 = Fraction(num2, den2)\n",
    "\n",
    "    print(\"Fraction 1:\", fraction1)\n",
    "    print(\"Fraction 2:\", fraction2)\n",
    "\n",
    "    print(\"Sum:\", fraction1 + fraction2)\n",
    "    print(\"Difference:\", fraction1 - fraction2)\n",
    "    print(\"Product:\", fraction1 * fraction2)\n",
    "    print(\"Quotient:\", fraction1 / fraction2)\n",
    "\n",
    "except ValueError as e:\n",
    "    print(\"Error:\", e)"
   ]
  },
  {
   "cell_type": "code",
   "execution_count": null,
   "metadata": {
    "id": "EJ0Ig9WK8f7G"
   },
   "outputs": [],
   "source": [
    "class Date:\n",
    "    month_day_not_leap = [31, 28, 31, 30, 31, 30, 31, 31, 30, 31, 30, 31]\n",
    "    month_day_leap = [31, 29, 31, 30, 31, 30, 31, 31, 30, 31, 30, 31]\n",
    "\n",
    "    def __init__(self, day : int, month : int, year : int, form = \"Vietnamese\"):\n",
    "        \"\"\"\n",
    "        Attributes:\n",
    "            :param m: index of month\n",
    "            :param d: day\n",
    "            :param y: year\n",
    "        \"\"\"\n",
    "        # Initialize\n",
    "        self.day = day\n",
    "        self.month = month\n",
    "        self.year = year\n",
    "        self.form = form\n",
    "\n",
    "        # Data\n",
    "        self.month_names = [\"January\", \"February\", \"March\", \"April\", \"May\", \"June\", \"July\", \"August\", \"September\", \"October\", \"November\", \"December\"]\n",
    "        self.month_day_leap = [31, 29, 31, 30, 31, 30, 31, 31, 30, 31, 30, 31]\n",
    "        self.month_day_not_leap = [31, 28, 31, 30, 31, 30, 31, 31, 30, 31, 30, 31]\n",
    "\n",
    "        # Check the month name\n",
    "        self.month_name = self.get_month_name()\n",
    "\n",
    "        # Check leap year\n",
    "        self.leap_year = self.is_leap_year()\n",
    "\n",
    "        # Check numth of date\n",
    "        self.numth_of_date = self.convert_to_nth()\n",
    "\n",
    "    def __str__(self):\n",
    "        if self.form == \"Vietnamese\":\n",
    "            return f\"{self.day}/{self.month}/{self.year}\"\n",
    "        elif self.form == \"American\":\n",
    "            return f\"{self.month}-{self.day}-{self.year}\"\n",
    "        elif self.form == \"Japanese\":\n",
    "            return f\"{self.year}/{self.month}/{self.day}\"\n",
    "        elif self.form == \"Elegant\":\n",
    "            return f\"{self.day}th, {self.month_name} of {self.year}\"\n",
    "\n",
    "    def __add__(self, other):\n",
    "        if isinstance(other, int):\n",
    "            nth = self.convert_to_nth() + other\n",
    "            a = convert_to_Date(nth, self.year, self.is_leap_year())\n",
    "        elif isinstance(self, int):\n",
    "            nth = other.convert_to_nth() + self\n",
    "            a = convert_to_Date(nth, other.year, other.is_leap_year())\n",
    "        else:\n",
    "            raise ValueError(\"False type for fraction.\")\n",
    "        return a\n",
    "\n",
    "    def get_month_name(self):\n",
    "        return self.month_names[self.month - 1]\n",
    "\n",
    "    def is_leap_year(self):\n",
    "        \"\"\"\n",
    "        Check if a year is leap or not:\n",
    "\n",
    "        year % 4 == 0 and year % 100 != 0 or year % 400 == 0\n",
    "        \"\"\"\n",
    "        if self.year % 4 == 0 and self.year % 100 != 0 or self.year % 400 == 0:\n",
    "            return True\n",
    "        else:\n",
    "            return False\n",
    "\n",
    "    @staticmethod\n",
    "    def check_is_leap_year(year):\n",
    "        \"\"\"\n",
    "        Check if a year is leap or not:\n",
    "\n",
    "        year % 4 == 0 and year % 100 != 0 or year % 400 == 0\n",
    "        \"\"\"\n",
    "        if year % 4 == 0 and year % 100 != 0 or year % 400 == 0:\n",
    "            return True\n",
    "        else:\n",
    "            return False\n",
    "\n",
    "    def convert_to_nth(self):\n",
    "        is_leap = Date.check_is_leap_year(self.year)\n",
    "        if is_leap:\n",
    "            return self.day + sum(self.month_day_leap[:self.month - 1])\n",
    "        else:\n",
    "            return self.day + sum(self.month_day_not_leap[:self.month - 1])\n",
    "\n",
    "    def tommorow(self):\n",
    "        # Tommorow\n",
    "        self.tommorow = self.convert_to_nth() + 1\n",
    "        self.tommorow_date = convert_to_Date(self.tommorow, self.year, self.leap_year)\n",
    "        return self.tommorow, self.tommorow_date\n",
    "\n",
    "    def yesterday(self):\n",
    "        # Yesterday\n",
    "        self.yesterday = self.convert_to_nth() - 1\n",
    "        self.yesterday_date = convert_to_Date(self.yesterday, self.year, self.leap_year)\n",
    "        return self.yesterday, self.yesterday_date\n",
    "\n",
    "def convert_to_Date(argument, year, is_leap : bool = False):\n",
    "    \"\"\"\n",
    "    Convert to Date\n",
    "    \"\"\"\n",
    "    found = False\n",
    "    month_indx = 0\n",
    "    month = 1\n",
    "    if is_leap:\n",
    "        while not found:\n",
    "            if argument > Date.month_day_leap[month_indx]:\n",
    "                argument -= Date.month_day_leap[month_indx]\n",
    "                month_indx += 1\n",
    "                month += 1\n",
    "            else:\n",
    "                found = True\n",
    "            day = argument\n",
    "    else:\n",
    "        while not found:\n",
    "            if argument > Date.month_day_not_leap[month_indx]:\n",
    "                argument -= Date.month_day_not_leap[month_indx]\n",
    "                month_indx += 1\n",
    "                month += 1\n",
    "            else:\n",
    "                found = True\n",
    "            day = argument\n",
    "    return Date(day, month, year)"
   ]
  },
  {
   "cell_type": "code",
   "execution_count": null,
   "metadata": {
    "colab": {
     "base_uri": "https://localhost:8080/"
    },
    "id": "SHi7nDJu-5Tw",
    "outputId": "d7ed14a3-419a-439d-ea30-24654ab91743"
   },
   "outputs": [
    {
     "name": "stdout",
     "output_type": "stream",
     "text": [
      "Format Vietnamese:  23/2/2006\n",
      "Name of month:  February\n",
      "Is leap year:  False\n",
      "The nth day:  54\n",
      "The 54th day is:  23/2/2006\n",
      "Tommorow is:  24/2/2006\n",
      "Yesterday is:  22/2/2006\n",
      "Plusing dates:  26/2/2006\n"
     ]
    }
   ],
   "source": [
    "# Make instance\n",
    "birthday = Date(23, 2, 2006, \"Vietnamese\")\n",
    "\n",
    "# Print\n",
    "print(\"Format Vietnamese: \", birthday)\n",
    "print(\"Name of month: \", birthday.get_month_name())\n",
    "print(\"Is leap year: \", birthday.is_leap_year())\n",
    "print(\"The nth day: \", birthday.convert_to_nth())\n",
    "print(\"The 54th day is: \", convert_to_Date(54, birthday.year, birthday.check_is_leap_year(82)))\n",
    "print(\"Tommorow is: \", birthday.tommorow()[1])\n",
    "print(\"Yesterday is: \", birthday.yesterday()[1])\n",
    "print(\"Plusing dates: \", birthday + 3)"
   ]
  },
  {
   "cell_type": "code",
   "execution_count": null,
   "metadata": {
    "colab": {
     "base_uri": "https://localhost:8080/"
    },
    "id": "rBnMrcFX_bKC",
    "outputId": "e40621ce-483f-4c9c-9241-83e90ae1e9b4"
   },
   "outputs": [
    {
     "name": "stdout",
     "output_type": "stream",
     "text": [
      "Format Vietnamese:  1/2/2006\n",
      "Name of month:  February\n",
      "Is leap year:  False\n",
      "The nth day:  32\n",
      "The 54th day is:  23/2/2006\n",
      "Tommorow is:  2/2/2006\n",
      "Yesterday is:  31/1/2006\n",
      "Plusing dates:  4/2/2006\n"
     ]
    }
   ],
   "source": [
    "# Make instance\n",
    "birthday = Date(1, 2, 2006, \"Vietnamese\")\n",
    "\n",
    "# Print\n",
    "print(\"Format Vietnamese: \", birthday)\n",
    "print(\"Name of month: \", birthday.get_month_name())\n",
    "print(\"Is leap year: \", birthday.is_leap_year())\n",
    "print(\"The nth day: \", birthday.convert_to_nth())\n",
    "print(\"The 54th day is: \", convert_to_Date(54, birthday.year, birthday.check_is_leap_year(82)))\n",
    "print(\"Tommorow is: \", birthday.tommorow()[1])\n",
    "print(\"Yesterday is: \", birthday.yesterday()[1])\n",
    "print(\"Plusing dates: \", birthday + 3)"
   ]
  },
  {
   "cell_type": "code",
   "execution_count": null,
   "metadata": {
    "colab": {
     "base_uri": "https://localhost:8080/"
    },
    "id": "S_V6IK39_dOh",
    "outputId": "01fe60be-4bcb-4870-8f4a-896fbd6cd499"
   },
   "outputs": [
    {
     "name": "stdout",
     "output_type": "stream",
     "text": [
      "Format Vietnamese:  2/12/2006\n",
      "Name of month:  December\n",
      "Is leap year:  False\n",
      "The nth day:  336\n",
      "The 54th day is:  23/2/2006\n",
      "Tommorow is:  3/12/2006\n",
      "Yesterday is:  1/12/2006\n",
      "Plusing dates:  5/12/2006\n"
     ]
    }
   ],
   "source": [
    "# Make instance\n",
    "birthday = Date(2, 12, 2006, \"Vietnamese\")\n",
    "\n",
    "# Print\n",
    "print(\"Format Vietnamese: \", birthday)\n",
    "print(\"Name of month: \", birthday.get_month_name())\n",
    "print(\"Is leap year: \", birthday.is_leap_year())\n",
    "print(\"The nth day: \", birthday.convert_to_nth())\n",
    "print(\"The 54th day is: \", convert_to_Date(54, birthday.year, birthday.check_is_leap_year(82)))\n",
    "print(\"Tommorow is: \", birthday.tommorow()[1])\n",
    "print(\"Yesterday is: \", birthday.yesterday()[1])\n",
    "print(\"Plusing dates: \", birthday + 3)"
   ]
  },
  {
   "cell_type": "code",
   "execution_count": null,
   "metadata": {
    "colab": {
     "base_uri": "https://localhost:8080/"
    },
    "id": "7l1gu0CtDHf7",
    "outputId": "eaec9e92-3bbe-49a6-88e1-17b96a7abba6"
   },
   "outputs": [
    {
     "name": "stdout",
     "output_type": "stream",
     "text": [
      "Format Vietnamese:  30/11/2006\n",
      "Name of month:  November\n",
      "Is leap year:  False\n",
      "The nth day:  334\n",
      "The 54th day is:  23/2/2006\n",
      "Tommorow is:  1/12/2006\n",
      "Yesterday is:  29/11/2006\n",
      "Plusing dates:  3/12/2006\n"
     ]
    }
   ],
   "source": [
    "# Make instance\n",
    "birthday = Date(30, 11, 2006, \"Vietnamese\")\n",
    "\n",
    "# Print\n",
    "print(\"Format Vietnamese: \", birthday)\n",
    "print(\"Name of month: \", birthday.get_month_name())\n",
    "print(\"Is leap year: \", birthday.is_leap_year())\n",
    "print(\"The nth day: \", birthday.convert_to_nth())\n",
    "print(\"The 54th day is: \", convert_to_Date(54, birthday.year, birthday.check_is_leap_year(82)))\n",
    "print(\"Tommorow is: \", birthday.tommorow()[1])\n",
    "print(\"Yesterday is: \", birthday.yesterday()[1])\n",
    "print(\"Plusing dates: \", birthday + 3)"
   ]
  },
  {
   "cell_type": "code",
   "execution_count": null,
   "metadata": {
    "id": "LZNQeHHpDEa1"
   },
   "outputs": [],
   "source": [
    "print(\"The 82th day is: \", convert_to_Date(82, birthday.check_is_leap_year(82)))"
   ]
  }
 ],
 "metadata": {
  "colab": {
   "provenance": []
  },
  "kernelspec": {
   "display_name": "venv",
   "language": "python",
   "name": "python3"
  },
  "language_info": {
   "codemirror_mode": {
    "name": "ipython",
    "version": 3
   },
   "file_extension": ".py",
   "mimetype": "text/x-python",
   "name": "python",
   "nbconvert_exporter": "python",
   "pygments_lexer": "ipython3",
   "version": "3.12.3"
  }
 },
 "nbformat": 4,
 "nbformat_minor": 0
}
