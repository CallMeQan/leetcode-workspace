{
 "cells": [
  {
   "cell_type": "code",
   "execution_count": 1,
   "metadata": {
    "colab": {
     "base_uri": "https://localhost:8080/"
    },
    "executionInfo": {
     "elapsed": 318,
     "status": "ok",
     "timestamp": 1734491440590,
     "user": {
      "displayName": "Phu Ho Nguyen",
      "userId": "03976883849839746830"
     },
     "user_tz": -420
    },
    "id": "cU-sjqGPi7gj",
    "outputId": "2fdceaaa-8d92-4a7b-ba90-270d10dc6a84"
   },
   "outputs": [
    {
     "name": "stdout",
     "output_type": "stream",
     "text": [
      "[1, 2, 3, 4, 5, 7, 7, 8, 9, 10]\n"
     ]
    }
   ],
   "source": [
    "def Merge(x, y):\n",
    "  n = len(x)\n",
    "  m = len(y)\n",
    "  ix = 0\n",
    "  iy = 0\n",
    "  z = []\n",
    "  for iz in range(n+m):\n",
    "      if ix > n - 1:\n",
    "        z.append(y[iy])\n",
    "        iy += 1\n",
    "      elif iy > m - 1:\n",
    "        z.append(x[ix])\n",
    "        ix += 1\n",
    "      elif x[ix] <= y[iy]:\n",
    "        z.append(x[ix])\n",
    "        ix += 1\n",
    "      elif x[ix] > y[iy]:\n",
    "        z.append(y[iy])\n",
    "        iy += 1\n",
    "  return z\n",
    "\n",
    "a = [1, 3, 5, 7, 9]\n",
    "b = [2, 4, 7, 8, 10]\n",
    "print(Merge(a, b))"
   ]
  },
  {
   "cell_type": "code",
   "execution_count": 2,
   "metadata": {
    "colab": {
     "base_uri": "https://localhost:8080/"
    },
    "collapsed": true,
    "executionInfo": {
     "elapsed": 314,
     "status": "ok",
     "timestamp": 1734491937679,
     "user": {
      "displayName": "Phu Ho Nguyen",
      "userId": "03976883849839746830"
     },
     "user_tz": -420
    },
    "id": "c19h2asjpAgq",
    "outputId": "22050f09-2f65-4b75-faa1-fcfbfd2c7b12"
   },
   "outputs": [
    {
     "data": {
      "text/plain": [
       "[1, 1, 2, 2, 3, 4, 4, 4, 5, 10]"
      ]
     },
     "execution_count": 2,
     "metadata": {},
     "output_type": "execute_result"
    }
   ],
   "source": [
    "def MergeSort(a):\n",
    "  n = len(a)\n",
    "  if n == 1:\n",
    "    return a\n",
    "  else:\n",
    "    mid = n // 2\n",
    "    # Tách thành hai phần\n",
    "    u0 = list(a[:mid])\n",
    "    u1 = list(a[mid:])\n",
    "    # Sort từng\n",
    "    x = MergeSort(u0)\n",
    "    y = MergeSort(u1)\n",
    "    return Merge(x, y)\n",
    "\n",
    "import random\n",
    "# x = [1, 3, 5, 7, 9, 2, 4, 6, 8, 10]\n",
    "x = []\n",
    "for i in range(10):\n",
    "  x.append(random.randint(1, 10))\n",
    "x = MergeSort(x)\n",
    "x"
   ]
  },
  {
   "cell_type": "code",
   "execution_count": 3,
   "metadata": {
    "colab": {
     "base_uri": "https://localhost:8080/"
    },
    "executionInfo": {
     "elapsed": 504,
     "status": "ok",
     "timestamp": 1734493667656,
     "user": {
      "displayName": "Phu Ho Nguyen",
      "userId": "03976883849839746830"
     },
     "user_tz": -420
    },
    "id": "gdKVVVrmta8n",
    "outputId": "85b7cbea-78ca-42d5-aa54-dd8d2d7a3140"
   },
   "outputs": [
    {
     "name": "stdout",
     "output_type": "stream",
     "text": [
      "Original array: [6, 8, 10, 1, 8, 6, 5, 8, 2, 7]\n",
      "Merge Sort: [1, 2, 5, 6, 6, 7, 8, 8, 8, 10]\n",
      "Linear Sort: [1, 2, 5, 6, 6, 7, 8, 8, 8, 10]\n",
      "Selection Sort: [1, 2, 5, 6, 6, 7, 8, 8, 8, 10]\n",
      "Binary Insertion Sort: [1, 2, 5, 6, 6, 7, 8, 8, 8, 10]\n",
      "Tim Sort: [1, 2, 5, 6, 6, 7, 8, 8, 8, 10]\n"
     ]
    }
   ],
   "source": [
    "# prompt: Create the functions for linear sort, selection sort, binary sort, merge sort and Tim sort\n",
    "\n",
    "import random\n",
    "def Merge(x, y):\n",
    "  n = len(x)\n",
    "  m = len(y)\n",
    "  ix = 0\n",
    "  iy = 0\n",
    "  z = []\n",
    "  for iz in range(n+m):\n",
    "      if ix > n - 1:\n",
    "        z.append(y[iy])\n",
    "        iy += 1\n",
    "      elif iy > m - 1:\n",
    "        z.append(x[ix])\n",
    "        ix += 1\n",
    "      elif x[ix] <= y[iy]:\n",
    "        z.append(x[ix])\n",
    "        ix += 1\n",
    "      elif x[ix] > y[iy]:\n",
    "        z.append(y[iy])\n",
    "        iy += 1\n",
    "  return z\n",
    "\n",
    "def MergeSort(a):\n",
    "  n = len(a)\n",
    "  if n == 1:\n",
    "    return a\n",
    "  else:\n",
    "    mid = n // 2\n",
    "    u0 = list(a[:mid])\n",
    "    u1 = list(a[mid:])\n",
    "    x = MergeSort(u0)\n",
    "    y = MergeSort(u1)\n",
    "    return Merge(x, y)\n",
    "\n",
    "def linear_sort(arr):\n",
    "    \"\"\"Sorts a list of integers using linear sort (counting sort).\"\"\"\n",
    "    if not arr:\n",
    "      return []\n",
    "    max_val = max(arr)\n",
    "    min_val = min(arr)\n",
    "    range_val = max_val - min_val + 1\n",
    "    count = [0] * range_val\n",
    "    output = [0] * len(arr)\n",
    "    for num in arr:\n",
    "        count[num - min_val] += 1\n",
    "    for i in range(1, range_val):\n",
    "        count[i] += count[i - 1]\n",
    "    for i in range(len(arr) - 1, -1, -1):\n",
    "        output[count[arr[i] - min_val] - 1] = arr[i]\n",
    "        count[arr[i] - min_val] -= 1\n",
    "    return output\n",
    "\n",
    "def selection_sort(arr):\n",
    "    \"\"\"Sorts a list using selection sort.\"\"\"\n",
    "    for i in range(len(arr)):\n",
    "        min_idx = i\n",
    "        for j in range(i + 1, len(arr)):\n",
    "            if arr[min_idx] > arr[j]:\n",
    "                min_idx = j\n",
    "        arr[i], arr[min_idx] = arr[min_idx], arr[i]\n",
    "    return arr\n",
    "\n",
    "\n",
    "def binary_insertion_sort(arr):\n",
    "    \"\"\"Sorts a list using binary insertion sort.\"\"\"\n",
    "    for i in range(1, len(arr)):\n",
    "        key = arr[i]\n",
    "        left, right = 0, i - 1\n",
    "        while left <= right:\n",
    "            mid = (left + right) // 2\n",
    "            if arr[mid] < key:\n",
    "                left = mid + 1\n",
    "            else:\n",
    "                right = mid - 1\n",
    "        for j in range(i, left, -1):\n",
    "            arr[j] = arr[j - 1]\n",
    "        arr[left] = key\n",
    "    return arr\n",
    "\n",
    "\n",
    "def timsort(arr):\n",
    "    \"\"\"Sorts a list using the built-in timsort algorithm (Python's default).\"\"\"\n",
    "    return sorted(arr)  # Python's sorted() uses Timsort\n",
    "\n",
    "# Example usage\n",
    "x = []\n",
    "for i in range(10):\n",
    "  x.append(random.randint(1, 10))\n",
    "\n",
    "print(\"Original array:\", x)\n",
    "print(\"Merge Sort:\", MergeSort(x))\n",
    "print(\"Linear Sort:\", linear_sort(x))\n",
    "print(\"Selection Sort:\", selection_sort(x.copy())) # Use a copy to avoid modifying the original list\n",
    "print(\"Binary Insertion Sort:\", binary_insertion_sort(x.copy()))\n",
    "print(\"Tim Sort:\", timsort(x.copy()))"
   ]
  },
  {
   "cell_type": "code",
   "execution_count": 5,
   "metadata": {
    "colab": {
     "base_uri": "https://localhost:8080/"
    },
    "executionInfo": {
     "elapsed": 336,
     "status": "ok",
     "timestamp": 1734493678772,
     "user": {
      "displayName": "Phu Ho Nguyen",
      "userId": "03976883849839746830"
     },
     "user_tz": -420
    },
    "id": "LR8G6m714BJH",
    "outputId": "1a60ad2d-8b9e-4cc9-8cf9-c30a8cb8f4cf"
   },
   "outputs": [
    {
     "name": "stdout",
     "output_type": "stream",
     "text": [
      "Linear Sort: 0.047902 seconds\n",
      "Merge Sort: 0.003023 seconds\n",
      "Selection Sort: 0.029886 seconds\n",
      "Binary Insertion Sort: 0.019949 seconds\n",
      "Tim Sort: 0.000000 seconds\n"
     ]
    }
   ],
   "source": [
    "# Exercise 2: Compare the performance of the sorting algorithms\n",
    "\n",
    "import random\n",
    "import time\n",
    "\n",
    "def Merge(x, y):\n",
    "    u = list(x)\n",
    "    v = list(y)\n",
    "    z = []\n",
    "    while len(u) > 0 and len(v) > 0:\n",
    "        if u[0] <= v[0]:\n",
    "            g = u.pop(0)\n",
    "        else:\n",
    "            g = v.pop(0)\n",
    "        z.append(g)\n",
    "    z.extend(u)\n",
    "    z.extend(v)\n",
    "    return z\n",
    "\n",
    "def MergeSort(a):\n",
    "    n = len(a)\n",
    "    if n == 1:\n",
    "        return a\n",
    "    else:\n",
    "        m = n//2\n",
    "        u0 = a[:m]\n",
    "        u1 = a[m:]\n",
    "        y0 = MergeSort(u0)\n",
    "        y1 = MergeSort(u1)\n",
    "        return Merge(y0, y1)\n",
    "\n",
    "def linear_sort(a):\n",
    "    if not a:\n",
    "      return []\n",
    "    for i in range(len(a)-1):\n",
    "      for j in range(i + 1, len(a)):\n",
    "          if a[i] > a[j]:\n",
    "              a[i], a[j] = a[j], a[i]\n",
    "    return a\n",
    "\n",
    "def selection_sort(arr):\n",
    "    for i in range(len(arr)):\n",
    "        min_idx = i\n",
    "        for j in range(i + 1, len(arr)):\n",
    "            if arr[min_idx] > arr[j]:\n",
    "                min_idx = j\n",
    "        arr[i], arr[min_idx] = arr[min_idx], arr[i]\n",
    "    return arr\n",
    "\n",
    "def binary_insertion_sort(arr):\n",
    "    for i in range(1, len(arr)):\n",
    "        key = arr[i]\n",
    "        left, right = 0, i - 1\n",
    "        while left <= right:\n",
    "            mid = (left + right) // 2\n",
    "            if arr[mid] < key:\n",
    "                left = mid + 1\n",
    "            else:\n",
    "                right = mid - 1\n",
    "        for j in range(i, left, -1):\n",
    "            arr[j] = arr[j - 1]\n",
    "        arr[left] = key\n",
    "    return arr\n",
    "\n",
    "def timsort(arr):\n",
    "    return sorted(arr)\n",
    "\n",
    "# Example usage and time measurement\n",
    "x = []\n",
    "for i in range(1000):  # Increased array size for better performance comparison\n",
    "    x.append(random.randint(1, 1000))\n",
    "\n",
    "algorithms = {\n",
    "    \"Linear Sort\": linear_sort,\n",
    "    \"Merge Sort\": MergeSort,\n",
    "    \"Selection Sort\": selection_sort,\n",
    "    \"Binary Insertion Sort\": binary_insertion_sort,\n",
    "    \"Tim Sort\": timsort\n",
    "}\n",
    "\n",
    "for name, algorithm in algorithms.items():\n",
    "    arr_copy = x[:] # Create a copy for each sort\n",
    "    # print(arr_copy[0])\n",
    "    start_time = time.time()\n",
    "    if name == \"Linear Sort\":\n",
    "      algorithm(arr_copy) # Linear sort modifies original\n",
    "    else:\n",
    "      algorithm(arr_copy.copy()) # Other sorts need a copy\n",
    "    end_time = time.time()\n",
    "    elapsed_time = end_time - start_time\n",
    "    print(f\"{name}: {elapsed_time:.6f} seconds\")"
   ]
  },
  {
   "cell_type": "code",
   "execution_count": 7,
   "metadata": {},
   "outputs": [
    {
     "name": "stdout",
     "output_type": "stream",
     "text": [
      "Linear Sort: 0.052858 seconds\n",
      "Merge Sort: 0.003986 seconds\n",
      "Selection Sort: 0.027925 seconds\n",
      "Binary Insertion Sort: 0.022929 seconds\n",
      "Tim Sort: 0.000000 seconds\n"
     ]
    }
   ],
   "source": [
    "results = []\n",
    "for i, num in enumerate([10, 100, 200, 300, 500, 1000, 10000]):\n",
    "    results.append({})\n",
    "    for name, algorithm in algorithms.items():\n",
    "        x = []\n",
    "        for j in range(num):\n",
    "            x.append(random.randint(1, 1000))\n",
    "        start_time = time.time()\n",
    "        if name == \"Linear Sort\":\n",
    "            algorithm(x)\n",
    "        else:\n",
    "            algorithm(x.copy())\n",
    "        end_time = time.time()\n",
    "        elapsed_time = end_time - start_time\n",
    "        results[i][name] = elapsed_time\n",
    "        if num == 1000:\n",
    "            print(f\"{name}: {elapsed_time:.6f} seconds\")"
   ]
  },
  {
   "cell_type": "code",
   "execution_count": 8,
   "metadata": {
    "colab": {
     "base_uri": "https://localhost:8080/",
     "height": 475
    },
    "executionInfo": {
     "elapsed": 396,
     "status": "ok",
     "timestamp": 1734492471276,
     "user": {
      "displayName": "Phu Ho Nguyen",
      "userId": "03976883849839746830"
     },
     "user_tz": -420
    },
    "id": "eVroii4wyb19",
    "outputId": "c1f1924d-bb33-4c11-f059-9e89b2ed61f0"
   },
   "outputs": [
    {
     "data": {
      "image/png": "[encoded data removed]",
      "text/plain": [
       "<Figure size 640x480 with 1 Axes>"
      ]
     },
     "metadata": {},
     "output_type": "display_data"
    }
   ],
   "source": [
    "import matplotlib.pyplot as plt\n",
    "\n",
    "x_linear = []\n",
    "x_binary = []\n",
    "x_merge = []\n",
    "x_tim = []\n",
    "y = [10, 100, 200, 300, 500, 1000, 10000]\n",
    "for i, _ in enumerate([10, 100, 200, 300, 500, 1000, 10000]):\n",
    "    x_linear.append(results[i][\"Linear Sort\"])\n",
    "    x_binary.append(results[i][\"Binary Insertion Sort\"])\n",
    "    x_merge.append(results[i][\"Merge Sort\"])\n",
    "    x_tim.append(results[i][\"Tim Sort\"])\n",
    "\n",
    "plt.plot(y, x_linear, label='Linear')\n",
    "plt.plot(y, x_binary, label='Binary')\n",
    "plt.plot(y, x_merge, label='Merge')\n",
    "plt.plot(y, x_tim, label='Tim')\n",
    "plt.xlabel(\"Độ lớn của mảng\")\n",
    "plt.ylabel(\"Thời gian chạy\")\n",
    "plt.legend()\n",
    "plt.title(\"So sánh các thuật toán sắp xếp\")\n",
    "plt.show()"
   ]
  },
  {
   "cell_type": "code",
   "execution_count": 9,
   "metadata": {
    "executionInfo": {
     "elapsed": 313,
     "status": "ok",
     "timestamp": 1734496384815,
     "user": {
      "displayName": "Phu Ho Nguyen",
      "userId": "03976883849839746830"
     },
     "user_tz": -420
    },
    "id": "6PXpMDm17MTG"
   },
   "outputs": [],
   "source": [
    "class Point:\n",
    "    \"\"\"\n",
    "    Attributes:\n",
    "        x: The x-coordinate of the point.\n",
    "        y: The y-coordinate of the point.\n",
    "    \"\"\"\n",
    "\n",
    "    def __init__(self, x, y):\n",
    "\n",
    "        \"\"\"\n",
    "        Initializes a new Point object with the given x and y coordinates.\n",
    "\n",
    "        Args:\n",
    "            x: The x-coordinate of the point.\n",
    "            y: The y-coordinate of the point.\n",
    "        \"\"\"\n",
    "        print(1)\n",
    "        self.x = x\n",
    "        self.y = y\n",
    "\n",
    "    def __str__(self):\n",
    "        print(2)\n",
    "        return f\"({self.x}, {self.y}) ahaha\"\n",
    "\n",
    "    def __eq__(self, other):\n",
    "        print(3)\n",
    "        return self.x == other.x and self.y == other.y\n",
    "\n",
    "    def __add__(self, other):\n",
    "        print(4)\n",
    "        return Point(self.x + other.x, self.y + other.y)"
   ]
  }
 ],
 "metadata": {
  "colab": {
   "authorship_tag": "ABX9TyN3z4OFcINKKV+zRlfD7gE+",
   "provenance": []
  },
  "kernelspec": {
   "display_name": "venv",
   "language": "python",
   "name": "python3"
  },
  "language_info": {
   "codemirror_mode": {
    "name": "ipython",
    "version": 3
   },
   "file_extension": ".py",
   "mimetype": "text/x-python",
   "name": "python",
   "nbconvert_exporter": "python",
   "pygments_lexer": "ipython3",
   "version": "3.12.3"
  }
 },
 "nbformat": 4,
 "nbformat_minor": 0
}
