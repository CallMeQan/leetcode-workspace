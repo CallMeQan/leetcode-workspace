{
 "cells": [
  {
   "cell_type": "code",
   "execution_count": 1,
   "metadata": {
    "id": "Pwvq0QBrF_Zw",
    "outputId": "81cd2322-a8e0-413c-c0b5-189453f04130"
   },
   "outputs": [
    {
     "name": "stdout",
     "output_type": "stream",
     "text": [
      "195\n"
     ]
    }
   ],
   "source": [
    "def T(s):\n",
    "    h = int(s[:2])\n",
    "    m = int(s[3:])\n",
    "    if h<12:\n",
    "        z = 60*h+m\n",
    "    else:\n",
    "        z = m\n",
    "    return z\n",
    "\n",
    "s1 = '08:45'\n",
    "s2 = '12:00'\n",
    "x = T(s1)\n",
    "y = T(s2)\n",
    "\n",
    "if y>=x:\n",
    "    numMin = y-x\n",
    "else:\n",
    "    numMin = (y+720)-x\n",
    "\n",
    "print(numMin)"
   ]
  },
  {
   "cell_type": "code",
   "execution_count": 3,
   "metadata": {
    "id": "HTgz6tbBF_Z0",
    "outputId": "0d557390-b473-47cd-920d-b5fe9012cdd0"
   },
   "outputs": [
    {
     "name": "stdout",
     "output_type": "stream",
     "text": [
      "Chênh lệch số phút giữa hai thời điểm: 195 phút.\n"
     ]
    }
   ],
   "source": [
    "def input_hour():\n",
    "    s1 = input('Nhập thời gian bắt đầu (08:45am): ')\n",
    "    s2 = input('Nhập thời gian kết thúc (12:00pm): ')\n",
    "    return s1, s2\n",
    "\n",
    "def T1(s):\n",
    "    h = int(s[:2])\n",
    "    m = int(s[3:5])\n",
    "    m_a = s[5:]\n",
    "\n",
    "    if(m_a == 'am'):\n",
    "        if h<12:\n",
    "            z = 60*h+m\n",
    "        else:\n",
    "            z = m\n",
    "        return z\n",
    "    else:\n",
    "        if h<12:\n",
    "            z = 60*h+m+12*60\n",
    "        else:\n",
    "            z = m+12*60\n",
    "        return z\n",
    "\n",
    "def counting_time_period(x,y):\n",
    "    if y>=x:\n",
    "        numMin = y-x\n",
    "    else:\n",
    "        numMin = (1440-x)+y\n",
    "    return numMin\n",
    "\n",
    "def input_hour():\n",
    "    s1 = input('Nhập thời gian bắt đầu (08:45am): ')\n",
    "    s2 = input('Nhập thời gian kết thúc (12:00pm): ')\n",
    "    return s1, s2\n",
    "\n",
    "# s format is 'hh:mmam'\n",
    "def T1(s):\n",
    "    h = s[:2] # do not take 2\n",
    "    m_a = s[5:] # take 3\n",
    "    m = int(s.removeprefix(str(h)).removesuffix(m_a).removeprefix(':'))\n",
    "    h = int(h)\n",
    "\n",
    "    if(m_a == 'am'):\n",
    "        if h<12:\n",
    "            z = 60*h+m\n",
    "        else:\n",
    "            z = m\n",
    "        return z\n",
    "    else:\n",
    "        if h<12:\n",
    "            z = 60*h+m+12*60\n",
    "        else:\n",
    "            z = m+12*60\n",
    "        return z\n",
    "\n",
    "def counting_time_period(x,y):\n",
    "    if y>=x:\n",
    "        numMin = y-x\n",
    "    else:\n",
    "        numMin = (1440-x)+y\n",
    "    return numMin\n",
    "\n",
    "def main():\n",
    "\n",
    "    # input:\n",
    "    s1, s2 = input_hour()\n",
    "\n",
    "    # processing:\n",
    "    x = T1(s1)\n",
    "    y = T1(s2)\n",
    "    numMin = counting_time_period(x, y)\n",
    "\n",
    "    # result:\n",
    "    print(f'Chênh lệch số phút giữa hai thời điểm: {numMin} phút.')\n",
    "\n",
    "if __name__ == \"__main__\":\n",
    "    khongtinhyeu = 'Ok'\n",
    "    while khongtinhyeu == 'Ok':\n",
    "        main()\n",
    "        khongtinhyeu = input('Tiep tuc khong? ')"
   ]
  },
  {
   "cell_type": "code",
   "execution_count": 4,
   "metadata": {
    "id": "Sz4VWeIUF_Z1",
    "outputId": "8154beb5-eab3-4ad2-d5c9-33868a75cf9e"
   },
   "outputs": [
    {
     "name": "stdout",
     "output_type": "stream",
     "text": [
      "     Windchill : 6813.12\n",
      "     Windchill : 6813.12\n"
     ]
    }
   ],
   "source": [
    "\"\"\" Computes windchill as a function of\n",
    "wind (mph) and temp (Fahrenheit) \"\"\"\n",
    "\n",
    "\n",
    "# Temp = float(input('Enter the temperature in Fahrenheit: '))\n",
    "# Wind = float(input('Enter the wind speed in mph: '))\n",
    "Temp = 300\n",
    "Wind = 20\n",
    "\n",
    "# Model Parameters\n",
    "A=35.74;B=.6215;C=-35.74;D=0.4275;e=.16\n",
    "\n",
    "# Compute and display the windchill\n",
    "WC = (A*B*Temp) + (C+D*Temp)*Wind**e\n",
    "print('     Windchill :%8.2f' % WC)\n",
    "print(f'     Windchill : {round(WC,2)}')\n"
   ]
  },
  {
   "cell_type": "code",
   "execution_count": 5,
   "metadata": {
    "id": "1ZHC_5s5F_Z2",
    "outputId": "cc8406a6-99e7-436d-cf72-5177092e0e50"
   },
   "outputs": [
    {
     "name": "stdout",
     "output_type": "stream",
     "text": [
      "     Windchill 9 :  6813.12\n",
      "     Windchill 8 : 6813.12\n",
      "     Windchill 7 :6813.12\n",
      "     Windchill 6 :6813.12\n",
      "     Windchill 5 :6813.12\n",
      "     Windchill 0 : 6813\n"
     ]
    }
   ],
   "source": [
    "# %m.nf thể hiện rằng có m khoảng trống tối thiểu để điền chuỗi\n",
    "# # nếu dư chỗ trống thì sẽ điền _ (dấu cách)\n",
    "# # nếu chiều dài chuỗi lớn hơn thì sẽ kéo dài từ bên phải (không có khoảng trắng, nhưng không cắt chuỗi)\n",
    "# làm tròn đến n (n=0) thì làm tròn đến số nguyên\n",
    "# lệnh này giúp chương trình đẹp hơn khi print ra\n",
    "\n",
    "WC = 6813.12399\n",
    "\n",
    "print('     Windchill 9 :%9.2f' % WC)\n",
    "print('     Windchill 8 :%8.2f' % WC)\n",
    "print('     Windchill 7 :%7.2f' % WC)\n",
    "print('     Windchill 6 :%6.2f' % WC)\n",
    "print('     Windchill 5 :%5.2f' % WC)\n",
    "print(f'     Windchill 0 : {int(round(WC,0))}')"
   ]
  },
  {
   "cell_type": "code",
   "execution_count": 7,
   "metadata": {
    "id": "9THLFvr1F_Z3",
    "outputId": "1fbd4398-167e-4fc7-a352-e23692868b95"
   },
   "outputs": [
    {
     "name": "stdout",
     "output_type": "stream",
     "text": [
      "x =     1234.123\n",
      "x =    1234.1235\n",
      "x =   1234.12346\n",
      "x =  1234.123457\n",
      "x = 1234.1234568\n",
      "x = 1234.12345679\n",
      "x = 1234.123456789\n",
      "x = 1234.1234567893\n",
      "x = 1234.12345678935\n"
     ]
    }
   ],
   "source": [
    "# trường hợp không đúng:\n",
    "# cần để số đằng sau dấu chấm (3,6,9) bằng nhau nếu muốn cân bằng theo dấu chấm\n",
    "\n",
    "x = 1234.12345678934532\n",
    "print('x = %12.3f' %x)\n",
    "print('x = %12.4f' %x)\n",
    "print('x = %12.5f' %x)\n",
    "print('x = %12.6f' %x)\n",
    "print('x = %12.7f' %x)\n",
    "print('x = %12.8f' %x)\n",
    "print('x = %12.9f' %x)\n",
    "print('x = %12.10f' %x)\n",
    "print('x = %12.11f' %x)"
   ]
  },
  {
   "cell_type": "code",
   "execution_count": 8,
   "metadata": {
    "id": "CJxiUmiCF_Z3",
    "outputId": "60b12f65-ebf3-4116-9e84-9e0b6b7577ca"
   },
   "outputs": [
    {
     "name": "stdout",
     "output_type": "stream",
     "text": [
      "Band has length: 11\n",
      "The Beatles in 1964\n",
      " The Beatles in 1964\n"
     ]
    }
   ],
   "source": [
    "Band = 'The Beatles'\n",
    "print('Band has length:%3d' %len(Band))\n",
    "print('%s in 1964' % Band)\n",
    "print('%12s in 1964' % Band)"
   ]
  },
  {
   "cell_type": "code",
   "execution_count": 9,
   "metadata": {
    "id": "3V9a1PVKF_Z4",
    "outputId": "ac3aba78-589f-455e-ca6d-23a171d5511b"
   },
   "outputs": [
    {
     "name": "stdout",
     "output_type": "stream",
     "text": [
      "The Beatles in 1964 and 1971\n"
     ]
    }
   ],
   "source": [
    "Band = 'The Beatles'\n",
    "print('%s in %4d and %4d' %(Band, 1964, 1971))"
   ]
  },
  {
   "cell_type": "code",
   "execution_count": 10,
   "metadata": {
    "colab": {
     "base_uri": "https://localhost:8080/"
    },
    "executionInfo": {
     "elapsed": 2494,
     "status": "ok",
     "timestamp": 1728979189074,
     "user": {
      "displayName": "Phu Ho Nguyen",
      "userId": "03976883849839746830"
     },
     "user_tz": -420
    },
    "id": "1dG8TNMYF_Z5",
    "outputId": "435e8843-a89f-444e-eea7-5ed0b763a8b0"
   },
   "outputs": [
    {
     "name": "stdout",
     "output_type": "stream",
     "text": [
      "The radius of the given circle is 1.78\n"
     ]
    }
   ],
   "source": [
    "from math import sqrt,pi\n",
    "A = int(input('Enter the circle area: '))\n",
    "r = sqrt(A/pi)\n",
    "print('The radius of the given circle is %3.2f' %r)"
   ]
  }
 ],
 "metadata": {
  "colab": {
   "provenance": []
  },
  "kernelspec": {
   "display_name": "venv",
   "language": "python",
   "name": "python3"
  },
  "language_info": {
   "codemirror_mode": {
    "name": "ipython",
    "version": 3
   },
   "file_extension": ".py",
   "mimetype": "text/x-python",
   "name": "python",
   "nbconvert_exporter": "python",
   "pygments_lexer": "ipython3",
   "version": "3.12.3"
  }
 },
 "nbformat": 4,
 "nbformat_minor": 0
}
