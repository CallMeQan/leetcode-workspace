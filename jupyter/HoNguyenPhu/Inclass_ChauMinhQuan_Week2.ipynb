{
 "cells": [
  {
   "cell_type": "code",
   "execution_count": null,
   "metadata": {
    "id": "tV4amCnoKMoN"
   },
   "outputs": [],
   "source": [
    "a = int(input())\n",
    "b = int(input())\n",
    "\n",
    "aTob = a**b\n",
    "bToA = b**a\n",
    "\n",
    "if aTob > bToA:\n",
    "    print(aTob)\n",
    "else:\n",
    "    print(bToA)"
   ]
  },
  {
   "cell_type": "code",
   "execution_count": null,
   "metadata": {
    "colab": {
     "base_uri": "https://localhost:8080/"
    },
    "executionInfo": {
     "elapsed": 527,
     "status": "ok",
     "timestamp": 1728358953287,
     "user": {
      "displayName": "Phu Ho Nguyen",
      "userId": "03976883849839746830"
     },
     "user_tz": -420
    },
    "id": "hZ3gPcdYK3xg",
    "outputId": "a62252e4-c20b-4a53-e8b1-0f3cab3cc5a5"
   },
   "outputs": [
    {
     "name": "stdout",
     "output_type": "stream",
     "text": [
      "a is both even and divided by 3\n"
     ]
    }
   ],
   "source": [
    "# even and divided by 3\n",
    "a = input()\n",
    "\n",
    "even = (int(a[-1:]) % 2 == 0)\n",
    "divided_by_three = (a % 3==0)\n",
    "\n",
    "if even and divided_by_three:\n",
    "    print('a is both even and divided by 3')\n",
    "elif even:\n",
    "    print('a is only even')\n",
    "elif divided_by_three:\n",
    "    print('a is only divided by 3')\n",
    "else:\n",
    "    print('a is neither even nor can be divided by 3')\n"
   ]
  },
  {
   "cell_type": "code",
   "execution_count": null,
   "metadata": {
    "colab": {
     "base_uri": "https://localhost:8080/"
    },
    "executionInfo": {
     "elapsed": 3119,
     "status": "ok",
     "timestamp": 1728362684503,
     "user": {
      "displayName": "Phu Ho Nguyen",
      "userId": "03976883849839746830"
     },
     "user_tz": -420
    },
    "id": "bjwuSgwqYciD",
    "outputId": "31f93d52-adc1-437a-8fa9-930647ceaf0b"
   },
   "outputs": [
    {
     "name": "stdout",
     "output_type": "stream",
     "text": [
      "Enter Fahrenheit temperature: 1234\n",
      "667.7777777777778\n"
     ]
    }
   ],
   "source": [
    "# recursive using Try and Except:\n",
    "def convert():\n",
    "    try:\n",
    "        inp = input('Enter Fahrenheit temperature: ')\n",
    "        fahr = float(inp)\n",
    "        cel = (fahr - 32.0) * 5.0 / 9.0\n",
    "        print(cel)\n",
    "    except:\n",
    "        print('Please enter a number!')\n",
    "        convert()\n",
    "\n",
    "convert()"
   ]
  },
  {
   "cell_type": "markdown",
   "metadata": {},
   "source": [
    "### Exercise 1.1: rewrite pay computation with 1,5 time the hourly rate for hours work above 40 hours"
   ]
  },
  {
   "cell_type": "code",
   "execution_count": null,
   "metadata": {
    "colab": {
     "base_uri": "https://localhost:8080/"
    },
    "executionInfo": {
     "elapsed": 3855,
     "status": "ok",
     "timestamp": 1728362847835,
     "user": {
      "displayName": "Phu Ho Nguyen",
      "userId": "03976883849839746830"
     },
     "user_tz": -420
    },
    "id": "-qwbJLAfY6YP",
    "outputId": "9c6656ac-aaef-4855-a875-d24646989df6"
   },
   "outputs": [
    {
     "name": "stdout",
     "output_type": "stream",
     "text": [
      "45\n",
      "10\n",
      "475.0\n"
     ]
    }
   ],
   "source": [
    "time = int(input())\n",
    "rate = int(input())\n",
    "\n",
    "if time > 40:\n",
    "    print((time-40)*1.5*rate + 40*rate)\n",
    "else:\n",
    "    print(time*rate)"
   ]
  },
  {
   "cell_type": "markdown",
   "metadata": {},
   "source": [
    "#### Exercise 2.2: Rewrite to manage input delicately"
   ]
  },
  {
   "cell_type": "code",
   "execution_count": null,
   "metadata": {
    "colab": {
     "base_uri": "https://localhost:8080/"
    },
    "executionInfo": {
     "elapsed": 25468,
     "status": "ok",
     "timestamp": 1736181272966,
     "user": {
      "displayName": "Phu Ho Nguyen",
      "userId": "03976883849839746830"
     },
     "user_tz": -420
    },
    "id": "8V0SDrCEdCl4",
    "outputId": "d36f22a3-33ef-4aee-cb33-9d4605f7b6d1"
   },
   "outputs": [
    {
     "name": "stdout",
     "output_type": "stream",
     "text": [
      "Enter Hours: 50\n",
      "Enter Rate: 4\n",
      "300.0\n"
     ]
    }
   ],
   "source": [
    "def manage_input():\n",
    "    try:\n",
    "        time = int(input('Enter Hours: '))\n",
    "        manage_input2(time)\n",
    "    except:\n",
    "        print('Error, please enter a numeric input!')\n",
    "        manage_input()\n",
    "\n",
    "def manage_input2(time):\n",
    "    try:\n",
    "        rate = int(input('Enter Rate: '))\n",
    "        if 40 >= time > 0:\n",
    "            print(time*rate)\n",
    "        elif 48 > time > 40:\n",
    "            print((time-40)*1.5*rate + 40*rate)\n",
    "        elif 52 > time >= 48:\n",
    "            print((time-40)*1.5*rate + (time-40)*2*rate + 40*rate)\n",
    "        elif time >= 52:\n",
    "            print((48-40)*1.5*rate + (52-48)*2*rate + 40*rate)\n",
    "            print('And a day off!')\n",
    "    except:\n",
    "        print('Error, please enter a numeric input!')\n",
    "        manage_input2(time)\n",
    "\n",
    "manage_input()"
   ]
  },
  {
   "cell_type": "code",
   "execution_count": null,
   "metadata": {
    "colab": {
     "base_uri": "https://localhost:8080/"
    },
    "id": "aDFwcevU4yEs",
    "outputId": "d6541fe0-6432-4fde-a57f-dbc0d42286d3"
   },
   "outputs": [
    {
     "name": "stdout",
     "output_type": "stream",
     "text": [
      "A\n",
      "Error, please enter a numeric input!\n"
     ]
    }
   ],
   "source": [
    "# Ex3\n",
    "\n",
    "# prompt for a score between 0.0 and 1.0\n",
    "# if out of range => error\n",
    "# if in range => according to table\n",
    "\n",
    "def input_check():\n",
    "    global score_tab\n",
    "    try:\n",
    "        score = input('Enter score: ')\n",
    "        if score == 'e':\n",
    "            pass\n",
    "        elif float(score) < 0 or float(score) > 1:\n",
    "            print('Error, score must be between 0.0 and 1.0!')\n",
    "            input_check()\n",
    "        else:\n",
    "            for key, value in score_tab.items():\n",
    "                if float(score) >= value:\n",
    "                    print(key)\n",
    "                    input_check()\n",
    "    except:\n",
    "        print('Error, please enter a numeric input!')\n",
    "        input_check()\n",
    "\n",
    "score_tab = {'A': 0.9,\n",
    "             'B': 0.8,\n",
    "             'C': 0.7,\n",
    "             'D': 0.6,\n",
    "             'F': 0.0\n",
    "             }\n",
    "\n",
    "input_check()"
   ]
  },
  {
   "cell_type": "code",
   "execution_count": null,
   "metadata": {
    "colab": {
     "base_uri": "https://localhost:8080/"
    },
    "executionInfo": {
     "elapsed": 23107,
     "status": "ok",
     "timestamp": 1736181362624,
     "user": {
      "displayName": "Phu Ho Nguyen",
      "userId": "03976883849839746830"
     },
     "user_tz": -420
    },
    "id": "MSITL4eG874O",
    "outputId": "dc1ee956-b423-49fb-e370-7fe9d253532c"
   },
   "outputs": [
    {
     "name": "stdout",
     "output_type": "stream",
     "text": [
      "Input n: 5\n",
      "Max: 87\n",
      "Min: 10\n",
      "Average: 50.2\n",
      "Input n: k\n",
      "Error, please enter a numeric input!\n",
      "Input n: Done\n",
      "Error, please enter a numeric input!\n",
      "Input n: 0\n"
     ]
    }
   ],
   "source": [
    "# Ex4\n",
    "# input n\n",
    "# random n values from 0 -> 100\n",
    "# find max, min, average\n",
    "\n",
    "# 0 to exit\n",
    "\n",
    "import numpy as np\n",
    "def main():\n",
    "    global n, arr\n",
    "    nmax = 0\n",
    "    nmin = 101\n",
    "    sum = 0\n",
    "    average = 1\n",
    "\n",
    "    # if True:\n",
    "    try:\n",
    "        n = int(input('Input n: '))\n",
    "        if n == 0:\n",
    "            pass\n",
    "        else:\n",
    "\n",
    "            for i in range(n):\n",
    "                num = np.random.randint(1,101) # random does not include last number\n",
    "                if num > nmax:\n",
    "                    nmax = num\n",
    "                if num < nmin:\n",
    "                    nmin = num\n",
    "                sum = sum + num\n",
    "\n",
    "            average = sum / n\n",
    "\n",
    "            print('Max:',nmax)\n",
    "            print('Min:',nmin)\n",
    "            print('Average:',average)\n",
    "            main()\n",
    "\n",
    "    except:\n",
    "        print('Error, please enter a numeric input!')\n",
    "        main()\n",
    "\n",
    "main()"
   ]
  },
  {
   "cell_type": "code",
   "execution_count": null,
   "metadata": {
    "colab": {
     "base_uri": "https://localhost:8080/"
    },
    "executionInfo": {
     "elapsed": 4471,
     "status": "ok",
     "timestamp": 1736764626859,
     "user": {
      "displayName": "Dung Ho Hanh",
      "userId": "08244223825063644548"
     },
     "user_tz": -420
    },
    "id": "-bdUbOOQOhEi",
    "outputId": "025ed462-5266-48d3-9c35-34cfd0440cfb"
   },
   "outputs": [
    {
     "name": "stdout",
     "output_type": "stream",
     "text": [
      "6\n",
      "total: 6\n",
      "count: 1\n",
      "average: 1\n"
     ]
    }
   ],
   "source": [
    "# Ex5\n",
    "def input_num():\n",
    "    global total, count, average\n",
    "    try:\n",
    "        num = input()\n",
    "        if num == 'Done':\n",
    "            average = total / count\n",
    "            pass\n",
    "        else:\n",
    "            num = int(num)\n",
    "            total = total + num\n",
    "            count = count + 1\n",
    "    except:\n",
    "        print('Invalid input')\n",
    "        input_num()\n",
    "\n",
    "def pout():\n",
    "    global total, count, average\n",
    "    print('total:',total)\n",
    "    print('count:',count)\n",
    "    print('average:',average)\n",
    "\n",
    "total = 0\n",
    "count = 0\n",
    "average = 1\n",
    "input_num()\n",
    "pout()"
   ]
  }
 ],
 "metadata": {
  "colab": {
   "provenance": []
  },
  "kernelspec": {
   "display_name": "venv",
   "language": "python",
   "name": "python3"
  },
  "language_info": {
   "codemirror_mode": {
    "name": "ipython",
    "version": 3
   },
   "file_extension": ".py",
   "mimetype": "text/x-python",
   "name": "python",
   "nbconvert_exporter": "python",
   "pygments_lexer": "ipython3",
   "version": "3.12.3"
  }
 },
 "nbformat": 4,
 "nbformat_minor": 0
}
