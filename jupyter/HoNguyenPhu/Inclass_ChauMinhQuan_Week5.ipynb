{
 "cells": [
  {
   "cell_type": "code",
   "execution_count": null,
   "metadata": {
    "colab": {
     "base_uri": "https://localhost:8080/"
    },
    "executionInfo": {
     "elapsed": 524,
     "status": "ok",
     "timestamp": 1732587619784,
     "user": {
      "displayName": "Phu Ho Nguyen",
      "userId": "03976883849839746830"
     },
     "user_tz": -420
    },
    "id": "s7yXG3oabIln",
    "outputId": "9f80a197-2879-4826-dc69-6c7c7684bb63"
   },
   "outputs": [
    {
     "data": {
      "text/plain": [
       "True"
      ]
     },
     "execution_count": 1,
     "metadata": {},
     "output_type": "execute_result"
    }
   ],
   "source": [
    "a = [1, 2, 3, 4]\n",
    "b = [1., 2., 3., 4.]\n",
    "a == b"
   ]
  },
  {
   "cell_type": "code",
   "execution_count": null,
   "metadata": {
    "colab": {
     "base_uri": "https://localhost:8080/"
    },
    "executionInfo": {
     "elapsed": 505,
     "status": "ok",
     "timestamp": 1732587623905,
     "user": {
      "displayName": "Phu Ho Nguyen",
      "userId": "03976883849839746830"
     },
     "user_tz": -420
    },
    "id": "69tJ_IzaRNSC",
    "outputId": "69cf1e3d-0c46-4721-ee1d-7578afb262f8"
   },
   "outputs": [
    {
     "data": {
      "text/plain": [
       "True"
      ]
     },
     "execution_count": 2,
     "metadata": {},
     "output_type": "execute_result"
    }
   ],
   "source": [
    "a = [1, 2, 3, 4]\n",
    "b = a\n",
    "a is b"
   ]
  },
  {
   "cell_type": "code",
   "execution_count": null,
   "metadata": {
    "colab": {
     "base_uri": "https://localhost:8080/"
    },
    "executionInfo": {
     "elapsed": 307,
     "status": "ok",
     "timestamp": 1732587822506,
     "user": {
      "displayName": "Phu Ho Nguyen",
      "userId": "03976883849839746830"
     },
     "user_tz": -420
    },
    "id": "wKyyioyLRRx5",
    "outputId": "75b38f0b-e928-4c3a-e635-e5c5a34e17ab"
   },
   "outputs": [
    {
     "data": {
      "text/plain": [
       "False"
      ]
     },
     "execution_count": 3,
     "metadata": {},
     "output_type": "execute_result"
    }
   ],
   "source": [
    "a = [1, 2, 3, 4]\n",
    "b = [1, 2, 3, 4]\n",
    "a is b"
   ]
  },
  {
   "cell_type": "code",
   "execution_count": null,
   "metadata": {
    "colab": {
     "base_uri": "https://localhost:8080/"
    },
    "executionInfo": {
     "elapsed": 316,
     "status": "ok",
     "timestamp": 1732587826910,
     "user": {
      "displayName": "Phu Ho Nguyen",
      "userId": "03976883849839746830"
     },
     "user_tz": -420
    },
    "id": "sbylQkirRr0V",
    "outputId": "034d55ab-279b-4ca4-e3d4-b813184a8a29"
   },
   "outputs": [
    {
     "data": {
      "text/plain": [
       "False"
      ]
     },
     "execution_count": 4,
     "metadata": {},
     "output_type": "execute_result"
    }
   ],
   "source": [
    "a = [10, 20, 30, 40]\n",
    "b = a[1:]\n",
    "a[1:] is b"
   ]
  },
  {
   "cell_type": "code",
   "execution_count": null,
   "metadata": {
    "colab": {
     "base_uri": "https://localhost:8080/"
    },
    "executionInfo": {
     "elapsed": 303,
     "status": "ok",
     "timestamp": 1732588089601,
     "user": {
      "displayName": "Phu Ho Nguyen",
      "userId": "03976883849839746830"
     },
     "user_tz": -420
    },
    "id": "EPjrVRX7TBaK",
    "outputId": "b56a37e2-1de0-4849-c1c9-c60b8c2fc219"
   },
   "outputs": [
    {
     "data": {
      "text/plain": [
       "[25, 20, 30, 40]"
      ]
     },
     "execution_count": 10,
     "metadata": {},
     "output_type": "execute_result"
    }
   ],
   "source": [
    "a = [10, 20, 30, 40]\n",
    "b = a\n",
    "b[0] = 25\n",
    "a"
   ]
  },
  {
   "cell_type": "code",
   "execution_count": null,
   "metadata": {
    "colab": {
     "base_uri": "https://localhost:8080/"
    },
    "executionInfo": {
     "elapsed": 301,
     "status": "ok",
     "timestamp": 1732588130371,
     "user": {
      "displayName": "Phu Ho Nguyen",
      "userId": "03976883849839746830"
     },
     "user_tz": -420
    },
    "id": "FOh7eLgnTHNn",
    "outputId": "0d7c6926-2b0b-4cba-9939-8b0f7307b4c8"
   },
   "outputs": [
    {
     "data": {
      "text/plain": [
       "[10, 20, 30, 40]"
      ]
     },
     "execution_count": 11,
     "metadata": {},
     "output_type": "execute_result"
    }
   ],
   "source": [
    "a = [10, 20, 30, 40]\n",
    "b = a[1:]\n",
    "b[0] = 25\n",
    "a"
   ]
  },
  {
   "cell_type": "code",
   "execution_count": null,
   "metadata": {
    "colab": {
     "base_uri": "https://localhost:8080/"
    },
    "executionInfo": {
     "elapsed": 296,
     "status": "ok",
     "timestamp": 1732587995440,
     "user": {
      "displayName": "Phu Ho Nguyen",
      "userId": "03976883849839746830"
     },
     "user_tz": -420
    },
    "id": "inpIGh1qSYXN",
    "outputId": "9abf8c4c-2d84-4ba0-f468-89f722298c79"
   },
   "outputs": [
    {
     "data": {
      "text/plain": [
       "[10, 20, 30, 40]"
      ]
     },
     "execution_count": 8,
     "metadata": {},
     "output_type": "execute_result"
    }
   ],
   "source": [
    "a = [40, 30, 10, 20]\n",
    "b = list(a)\n",
    "b.sort()\n",
    "b"
   ]
  },
  {
   "cell_type": "code",
   "execution_count": null,
   "metadata": {
    "colab": {
     "base_uri": "https://localhost:8080/"
    },
    "executionInfo": {
     "elapsed": 313,
     "status": "ok",
     "timestamp": 1732589849001,
     "user": {
      "displayName": "Phu Ho Nguyen",
      "userId": "03976883849839746830"
     },
     "user_tz": -420
    },
    "id": "NG3ypZhgTXM7",
    "outputId": "31967077-598f-4b5b-9bff-d240505f618d"
   },
   "outputs": [
    {
     "name": "stdout",
     "output_type": "stream",
     "text": [
      "True\n",
      "[10, 20, 30, 40]\n",
      "[10, 20, 30, 40]\n"
     ]
    }
   ],
   "source": [
    "def f(x):\n",
    "  global u\n",
    "  print(u is x)\n",
    "  print(x)\n",
    "\n",
    "if __name__ == '__main__':\n",
    "  u = [10, 20, 30, 40]\n",
    "  f(u)\n",
    "  print(u)"
   ]
  },
  {
   "cell_type": "code",
   "execution_count": null,
   "metadata": {
    "colab": {
     "base_uri": "https://localhost:8080/"
    },
    "executionInfo": {
     "elapsed": 322,
     "status": "ok",
     "timestamp": 1732589259737,
     "user": {
      "displayName": "Phu Ho Nguyen",
      "userId": "03976883849839746830"
     },
     "user_tz": -420
    },
    "id": "W6OLs_jJXXnq",
    "outputId": "fcd7c4b2-a7f1-4a34-d73b-7f9d409f8ced"
   },
   "outputs": [
    {
     "name": "stdout",
     "output_type": "stream",
     "text": [
      "[10, 20, 0, 40]\n",
      "[10, 20, 0, 40]\n"
     ]
    }
   ],
   "source": [
    "def f(x):\n",
    "  x[2] = 0\n",
    "  print(x)\n",
    "\n",
    "if __name__ == '__main__':\n",
    "  u = [10, 20, 30, 40]\n",
    "  f(u)\n",
    "  print(u)"
   ]
  },
  {
   "cell_type": "markdown",
   "metadata": {},
   "source": [
    "### Exercise 5.1\n",
    "Có nhiều cách để làm bài tập này\n",
    "\n",
    "Có thể dùng cách dưới; hoặc global hoặc .pop()"
   ]
  },
  {
   "cell_type": "code",
   "execution_count": null,
   "metadata": {
    "colab": {
     "base_uri": "https://localhost:8080/"
    },
    "executionInfo": {
     "elapsed": 298,
     "status": "ok",
     "timestamp": 1732590428101,
     "user": {
      "displayName": "Phu Ho Nguyen",
      "userId": "03976883849839746830"
     },
     "user_tz": -420
    },
    "id": "eNlCfkTIVa9G",
    "outputId": "c5c3238e-ccca-4701-b58a-a2ec48fed24a"
   },
   "outputs": [
    {
     "name": "stdout",
     "output_type": "stream",
     "text": [
      "[2, 3, 4]\n",
      "[2, 3, 4]\n"
     ]
    }
   ],
   "source": [
    "def f(x):\n",
    "  x[:] = x[1:]\n",
    "  print(x)\n",
    "\n",
    "if __name__ == '__main__':\n",
    "  u = [1, 2, 3, 4]\n",
    "  f(u)\n",
    "  print(u)"
   ]
  },
  {
   "cell_type": "code",
   "execution_count": 1,
   "metadata": {
    "colab": {
     "base_uri": "https://localhost:8080/"
    },
    "executionInfo": {
     "elapsed": 309,
     "status": "ok",
     "timestamp": 1732588331549,
     "user": {
      "displayName": "Phu Ho Nguyen",
      "userId": "03976883849839746830"
     },
     "user_tz": -420
    },
    "id": "S7Y4O27jT1br",
    "outputId": "59230a15-1538-4227-865c-7ce68c7f760c"
   },
   "outputs": [
    {
     "name": "stdout",
     "output_type": "stream",
     "text": [
      "[20, 30, 40]\n",
      "[10, 20, 30, 40]\n"
     ]
    }
   ],
   "source": [
    "def f(u):\n",
    "  u = u[1:]\n",
    "  print(u)\n",
    "\n",
    "if __name__ == '__main__':\n",
    "  u = [10, 20, 30, 40]\n",
    "  f(u)\n",
    "  print(u)"
   ]
  },
  {
   "cell_type": "code",
   "execution_count": null,
   "metadata": {
    "colab": {
     "base_uri": "https://localhost:8080/"
    },
    "executionInfo": {
     "elapsed": 300,
     "status": "ok",
     "timestamp": 1732608322050,
     "user": {
      "displayName": "Phu Ho Nguyen",
      "userId": "03976883849839746830"
     },
     "user_tz": -420
    },
    "id": "b3jc-sJFT_nW",
    "outputId": "fc5ed15b-8bc0-4ab5-bf44-e0fa9c768a53"
   },
   "outputs": [
    {
     "name": "stdout",
     "output_type": "stream",
     "text": [
      "[25, 20, 30, 40]\n",
      "[25, 20, 30, 40]\n"
     ]
    }
   ],
   "source": [
    "def f(x):\n",
    "  x[0] = 25\n",
    "  print(x)\n",
    "\n",
    "if __name__ == '__main__':\n",
    "  u = [10, 20, 30, 40]\n",
    "  f(u)\n",
    "  print(u)"
   ]
  },
  {
   "cell_type": "markdown",
   "metadata": {},
   "source": [
    "### Exercise 5.2"
   ]
  },
  {
   "cell_type": "code",
   "execution_count": 5,
   "metadata": {
    "colab": {
     "base_uri": "https://localhost:8080/",
     "height": 451
    },
    "executionInfo": {
     "elapsed": 128565,
     "status": "ok",
     "timestamp": 1732614132499,
     "user": {
      "displayName": "Phu Ho Nguyen",
      "userId": "03976883849839746830"
     },
     "user_tz": -420
    },
    "id": "UW1WDNfNiTZi",
    "outputId": "d642df4d-8013-4338-bdd1-978985e512a1"
   },
   "outputs": [
    {
     "data": {
      "image/png": "[encoded data removed]",
      "text/plain": [
       "<Figure size 640x480 with 1 Axes>"
      ]
     },
     "metadata": {},
     "output_type": "display_data"
    }
   ],
   "source": [
    "def PF2(x):\n",
    "  n = len(x)\n",
    "  m = int(n/2)\n",
    "  y = []\n",
    "\n",
    "  for k in range(m):\n",
    "    y.append(x[k])\n",
    "    y.append(x[k+m])\n",
    "  return y\n",
    "\n",
    "def find_numPF(x):\n",
    "  numPFs = 1\n",
    "  while x != x0:\n",
    "    x = PF2(x)\n",
    "    numPFs += 1\n",
    "  return numPFs\n",
    "\n",
    "y_coor = []\n",
    "x_coor = []\n",
    "for i in range(1, 1500):\n",
    "  x_coor.append(i*2)\n",
    "  x0 = list(range(1, i*2 + 1))\n",
    "  x = list(x0)\n",
    "  x = PF2(x)\n",
    "  numPFs = find_numPF(x)\n",
    "  y_coor.append(numPFs)\n",
    "\n",
    "import matplotlib.pyplot as plt\n",
    "plt.plot(x_coor, y_coor, '.')\n",
    "plt.xlabel('Số phần tử trong list x')\n",
    "plt.ylabel('Số lần PF2 được thực hiện')\n",
    "plt.show()"
   ]
  },
  {
   "cell_type": "code",
   "execution_count": 6,
   "metadata": {
    "id": "eyGAuET8p3mb"
   },
   "outputs": [
    {
     "ename": "NameError",
     "evalue": "name 'y' is not defined",
     "output_type": "error",
     "traceback": [
      "\u001b[1;31m---------------------------------------------------------------------------\u001b[0m",
      "\u001b[1;31mNameError\u001b[0m                                 Traceback (most recent call last)",
      "Cell \u001b[1;32mIn[6], line 11\u001b[0m\n\u001b[0;32m      9\u001b[0m \u001b[38;5;28;01mfor\u001b[39;00m i \u001b[38;5;129;01min\u001b[39;00m \u001b[38;5;28mrange\u001b[39m(\u001b[38;5;28mlen\u001b[39m(x)):\n\u001b[0;32m     10\u001b[0m     \u001b[38;5;28;01mfor\u001b[39;00m j \u001b[38;5;129;01min\u001b[39;00m \u001b[38;5;28mrange\u001b[39m(\u001b[38;5;28mlen\u001b[39m(percent) \u001b[38;5;241m-\u001b[39m \u001b[38;5;241m1\u001b[39m):\n\u001b[1;32m---> 11\u001b[0m         temp \u001b[38;5;241m=\u001b[39m [x[i], \u001b[43my\u001b[49m[i]]\n\u001b[0;32m     12\u001b[0m         temp \u001b[38;5;241m=\u001b[39m \u001b[38;5;28mmin\u001b[39m(temp)\u001b[38;5;241m/\u001b[39m\u001b[38;5;28mmax\u001b[39m(temp)\n\u001b[0;32m     13\u001b[0m         \u001b[38;5;28;01mif\u001b[39;00m percent[j] \u001b[38;5;241m<\u001b[39m\u001b[38;5;241m=\u001b[39m temp \u001b[38;5;241m<\u001b[39m percent[j\u001b[38;5;241m+\u001b[39m\u001b[38;5;241m1\u001b[39m]:\n",
      "\u001b[1;31mNameError\u001b[0m: name 'y' is not defined"
     ]
    }
   ],
   "source": [
    "percent = [0, 0.025, 0.05, 0.075, 0.10, 0.125, 0.15, 0.175, 0.20, 0.225, 0.25, 0.275, 0.30, 0.325, 0.35, 0.375, 0.40, 0.425, 0.45, 0.475, 0.50,\n",
    "           0.55, 0.575, 0.60, 0.625, 0.65, 0.70, 0.725, 0.75, 0.775, 0.80, 0.825, 0.85, 0.875, 0.90, 0.925, 0.95, 0.975, 1]\n",
    "x_sets = []\n",
    "y_sets = []\n",
    "for i in range(len(percent) - 1):\n",
    "    y_sets.append([])\n",
    "    x_sets.append([])\n",
    "\n",
    "for i in range(len(x)):\n",
    "    for j in range(len(percent) - 1):\n",
    "        temp = [x[i], y[i]]\n",
    "        temp = min(temp)/max(temp)\n",
    "        if percent[j] <= temp < percent[j+1]:\n",
    "            x_sets[j].append(x[i])\n",
    "            y_sets[j].append(y[i])\n",
    "            break"
   ]
  },
  {
   "cell_type": "code",
   "execution_count": 4,
   "metadata": {
    "colab": {
     "base_uri": "https://localhost:8080/",
     "height": 1000
    },
    "executionInfo": {
     "elapsed": 1771,
     "status": "ok",
     "timestamp": 1732615222688,
     "user": {
      "displayName": "Phu Ho Nguyen",
      "userId": "03976883849839746830"
     },
     "user_tz": -420
    },
    "id": "GXanWkzXrsvF",
    "outputId": "e51cbc1e-eb1f-4bfa-a3ed-9680d0c78a6a"
   },
   "outputs": [
    {
     "ename": "NameError",
     "evalue": "name 'percent' is not defined",
     "output_type": "error",
     "traceback": [
      "\u001b[1;31m---------------------------------------------------------------------------\u001b[0m",
      "\u001b[1;31mNameError\u001b[0m                                 Traceback (most recent call last)",
      "Cell \u001b[1;32mIn[4], line 7\u001b[0m\n\u001b[0;32m      4\u001b[0m     plt\u001b[38;5;241m.\u001b[39mylabel(\u001b[38;5;124m\"\u001b[39m\u001b[38;5;124mSố lần PF2 được thực hiện\u001b[39m\u001b[38;5;124m\"\u001b[39m)\n\u001b[0;32m      5\u001b[0m     plt\u001b[38;5;241m.\u001b[39mshow()\n\u001b[1;32m----> 7\u001b[0m \u001b[38;5;28;01mfor\u001b[39;00m i \u001b[38;5;129;01min\u001b[39;00m \u001b[38;5;28mrange\u001b[39m(\u001b[38;5;28mlen\u001b[39m(\u001b[43mpercent\u001b[49m) \u001b[38;5;241m-\u001b[39m \u001b[38;5;241m1\u001b[39m):\n\u001b[0;32m      8\u001b[0m     \u001b[38;5;28;01mif\u001b[39;00m \u001b[38;5;28mlen\u001b[39m(y_sets[i]) \u001b[38;5;241m>\u001b[39m \u001b[38;5;241m100\u001b[39m:\n\u001b[0;32m      9\u001b[0m         \u001b[38;5;28mprint\u001b[39m(\u001b[38;5;124mf\u001b[39m\u001b[38;5;124m'\u001b[39m\u001b[38;5;124mĐồ thị đối với x từ \u001b[39m\u001b[38;5;132;01m{\u001b[39;00mpercent[i]\u001b[38;5;241m*\u001b[39m\u001b[38;5;241m100\u001b[39m\u001b[38;5;132;01m}\u001b[39;00m\u001b[38;5;124m% đến \u001b[39m\u001b[38;5;132;01m{\u001b[39;00mpercent[i\u001b[38;5;250m \u001b[39m\u001b[38;5;241m+\u001b[39m\u001b[38;5;250m \u001b[39m\u001b[38;5;241m1\u001b[39m]\u001b[38;5;241m*\u001b[39m\u001b[38;5;241m100\u001b[39m\u001b[38;5;132;01m}\u001b[39;00m\u001b[38;5;124m% của PF2 (Số mẫu: \u001b[39m\u001b[38;5;132;01m{\u001b[39;00m\u001b[38;5;28mlen\u001b[39m(x_sets[i])\u001b[38;5;132;01m}\u001b[39;00m\u001b[38;5;124m):\u001b[39m\u001b[38;5;124m'\u001b[39m)\n",
      "\u001b[1;31mNameError\u001b[0m: name 'percent' is not defined"
     ]
    }
   ],
   "source": [
    "def ploting_res(x, y, percent):\n",
    "    plt.plot(x, y, 'o', color = 'red')\n",
    "    plt.xlabel(f'Số phần tử trong list x ({percent*100}%)')\n",
    "    plt.ylabel(\"Số lần PF2 được thực hiện\")\n",
    "    plt.show()\n",
    "\n",
    "for i in range(len(percent) - 1):\n",
    "    if len(y_sets[i]) > 100:\n",
    "        print(f'Đồ thị đối với x từ {percent[i]*100}% đến {percent[i + 1]*100}% của PF2 (Số mẫu: {len(x_sets[i])}):')\n",
    "        # ploting_res(x_sets[i], y_sets[i], percent[i])\n",
    "        ploting_res(x_sets[i][:], y_sets[i][:], percent[i])\n",
    "        print('\\n')"
   ]
  },
  {
   "cell_type": "code",
   "execution_count": null,
   "metadata": {
    "colab": {
     "base_uri": "https://localhost:8080/",
     "height": 467
    },
    "executionInfo": {
     "elapsed": 295,
     "status": "ok",
     "timestamp": 1732615225724,
     "user": {
      "displayName": "Phu Ho Nguyen",
      "userId": "03976883849839746830"
     },
     "user_tz": -420
    },
    "id": "Ybl5sSf3UqQY",
    "outputId": "9fb89163-2bec-4d88-ad64-b2a2cb661392"
   },
   "outputs": [
    {
     "name": "stdout",
     "output_type": "stream",
     "text": [
      "[0, 0.025, 0.05, 0.075, 0.1, 0.125, 0.15, 0.175, 0.2, 0.225, 0.25, 0.275, 0.3, 0.325, 0.35, 0.375, 0.4, 0.425, 0.45, 0.475, 0.5, 0.55, 0.575, 0.6, 0.625, 0.65, 0.7, 0.725, 0.75, 0.775, 0.8, 0.825, 0.85, 0.875, 0.9, 0.925, 0.95, 0.975]\n"
     ]
    },
    {
     "data": {
      "image/png": "[encoded data removed]",
      "text/plain": [
       "<Figure size 640x480 with 1 Axes>"
      ]
     },
     "metadata": {},
     "output_type": "display_data"
    }
   ],
   "source": [
    "import matplotlib.pyplot as plt\n",
    "\n",
    "distribution_x_sets = []\n",
    "for i in range(len(x_sets)):\n",
    "    distribution_x_sets.append(len(x_sets[i]))\n",
    "print(percent[:-1])\n",
    "plt.bar(percent[:-1], distribution_x_sets, color = 'red', width = 0.007)\n",
    "plt.show()"
   ]
  },
  {
   "cell_type": "code",
   "execution_count": null,
   "metadata": {
    "colab": {
     "base_uri": "https://localhost:8080/"
    },
    "executionInfo": {
     "elapsed": 268,
     "status": "ok",
     "timestamp": 1732615228150,
     "user": {
      "displayName": "Phu Ho Nguyen",
      "userId": "03976883849839746830"
     },
     "user_tz": -420
    },
    "id": "i7R7YALlbZiA",
    "outputId": "e2995215-a6d1-43e6-e81c-352fba741be3"
   },
   "outputs": [
    {
     "data": {
      "text/plain": [
       "157"
      ]
     },
     "execution_count": 25,
     "metadata": {},
     "output_type": "execute_result"
    }
   ],
   "source": [
    "n = -1\n",
    "x_temp = x_sets[n]\n",
    "y_temp = y_sets[n]\n",
    "len(x_temp)"
   ]
  },
  {
   "cell_type": "markdown",
   "metadata": {},
   "source": [
    "### Exercise 5.3"
   ]
  },
  {
   "cell_type": "code",
   "execution_count": 2,
   "metadata": {
    "colab": {
     "base_uri": "https://localhost:8080/"
    },
    "executionInfo": {
     "elapsed": 274,
     "status": "ok",
     "timestamp": 1732615243305,
     "user": {
      "displayName": "Phu Ho Nguyen",
      "userId": "03976883849839746830"
     },
     "user_tz": -420
    },
    "id": "1dvo_Rr8U05P",
    "outputId": "d52f2faa-6b27-4025-8d9f-82e92193215f"
   },
   "outputs": [
    {
     "data": {
      "text/plain": [
       "{'a': 2, 'an': 2, 'ex': 1, 'exam': 1, 'is': 3, 'not': 2, 'test': 2, 'this': 2}"
      ]
     },
     "execution_count": 2,
     "metadata": {},
     "output_type": "execute_result"
    }
   ],
   "source": [
    "def stringToList(text):\n",
    "  temp = []\n",
    "  text = text.split()\n",
    "  for i in text:\n",
    "    temp.append(i.strip('.').strip(',').lower())\n",
    "  return temp\n",
    "\n",
    "text = 'This is a test. This is not an exam. An ex is not a test.'\n",
    "lst = stringToList(text)\n",
    "keys = list(set(lst))\n",
    "keys.sort()\n",
    "values = []\n",
    "for i in keys:\n",
    "  values.append(lst.count(i))\n",
    "\n",
    "dict(zip(keys, values))"
   ]
  },
  {
   "cell_type": "code",
   "execution_count": 3,
   "metadata": {
    "colab": {
     "base_uri": "https://localhost:8080/"
    },
    "executionInfo": {
     "elapsed": 256,
     "status": "ok",
     "timestamp": 1732615245948,
     "user": {
      "displayName": "Phu Ho Nguyen",
      "userId": "03976883849839746830"
     },
     "user_tz": -420
    },
    "id": "Y6qXR1v23yYT",
    "outputId": "9afc8cb1-e8cc-49c3-a507-3ed58de98856"
   },
   "outputs": [
    {
     "data": {
      "text/plain": [
       "[1]"
      ]
     },
     "execution_count": 3,
     "metadata": {},
     "output_type": "execute_result"
    }
   ],
   "source": [
    "a = [1, 2, 3, 4, 5, 6]\n",
    "a[0::6]"
   ]
  }
 ],
 "metadata": {
  "colab": {
   "authorship_tag": "ABX9TyMWtO3pDJBm8Hw5zEyLfvVK",
   "provenance": []
  },
  "kernelspec": {
   "display_name": "venv",
   "language": "python",
   "name": "python3"
  },
  "language_info": {
   "codemirror_mode": {
    "name": "ipython",
    "version": 3
   },
   "file_extension": ".py",
   "mimetype": "text/x-python",
   "name": "python",
   "nbconvert_exporter": "python",
   "pygments_lexer": "ipython3",
   "version": "3.12.3"
  }
 },
 "nbformat": 4,
 "nbformat_minor": 0
}
