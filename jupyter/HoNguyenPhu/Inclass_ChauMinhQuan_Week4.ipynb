{
 "cells": [
  {
   "cell_type": "code",
   "execution_count": 1,
   "metadata": {
    "colab": {
     "base_uri": "https://localhost:8080/"
    },
    "executionInfo": {
     "elapsed": 809,
     "status": "ok",
     "timestamp": 1732545760754,
     "user": {
      "displayName": "Phu Ho Nguyen",
      "userId": "03976883849839746830"
     },
     "user_tz": -420
    },
    "id": "6QQM6oSgxgVw",
    "outputId": "1843a8b6-7111-4806-af7c-ab7a8c347028"
   },
   "outputs": [
    {
     "name": "stdout",
     "output_type": "stream",
     "text": [
      "[30, 40]\n",
      "[23, 30, 40, 60, 80]\n",
      "[23, 30, 40, 60, 80]\n",
      "[23, 30, 40]\n",
      "[60, 80]\n",
      "1\n",
      "2\n",
      "3\n",
      "4\n",
      "5\n",
      "6\n",
      "7\n",
      "8\n",
      "9\n",
      "10\n",
      "11\n",
      "12\n"
     ]
    }
   ],
   "source": [
    "import numpy as np\n",
    "lst = [23,30,40,60,80]\n",
    "lst2 = [90, 100]\n",
    "y = lst[1:3]\n",
    "print(y)\n",
    "print(lst)\n",
    "y.remove(y[0])\n",
    "print(lst)\n",
    "print(lst[:3])\n",
    "print(lst[3:])\n",
    "# print(lst+lst2)\n",
    "\n",
    "a = [[1, 2, 3, 4],\n",
    "    [5, 6, 7, 8],\n",
    "    [9, 10, 11, 12]\n",
    "]\n",
    "\n",
    "arr = np.array(a)\n",
    "arr_shape = np.shape(arr)\n",
    "\n",
    "for i in range(arr_shape[0]):\n",
    "    for j in range(arr_shape[1]):\n",
    "        print(arr[i][j])\n"
   ]
  },
  {
   "cell_type": "code",
   "execution_count": null,
   "metadata": {
    "colab": {
     "base_uri": "https://localhost:8080/"
    },
    "executionInfo": {
     "elapsed": 4,
     "status": "ok",
     "timestamp": 1732545765063,
     "user": {
      "displayName": "Phu Ho Nguyen",
      "userId": "03976883849839746830"
     },
     "user_tz": -420
    },
    "id": "01gc-vYNxgVy",
    "outputId": "bcee3942-6c04-4e13-c0e0-b07720c6da3a"
   },
   "outputs": [
    {
     "name": "stdout",
     "output_type": "stream",
     "text": [
      "lst[:3]  [1, 1, 2]\n",
      "lst[3:]  [3, 5, 8, 13, 21, 34]\n",
      "lst+lst2  [1, 1, 2, 3, 5, 8, 13, 21, 34, 24]\n"
     ]
    }
   ],
   "source": [
    "lst1 = [1, 1, 2, 3, 5, 8, 13, 21, 34]\n",
    "lst_slice = lst1[1:3]\n",
    "lst3 = [120, 150]\n",
    "\n",
    "lst_slice[1] = 24\n",
    "lst_slice.remove(lst_slice[0])\n",
    "\n",
    "print('lst[:3] ',lst1[:3])\n",
    "print('lst[3:] ',lst1[3:])\n",
    "print('lst+lst2 ',lst1+lst_slice)"
   ]
  },
  {
   "cell_type": "code",
   "execution_count": 4,
   "metadata": {
    "colab": {
     "base_uri": "https://localhost:8080/"
    },
    "executionInfo": {
     "elapsed": 1384,
     "status": "ok",
     "timestamp": 1732545770668,
     "user": {
      "displayName": "Phu Ho Nguyen",
      "userId": "03976883849839746830"
     },
     "user_tz": -420
    },
    "id": "DyIHrX0UxgVz",
    "outputId": "744e695c-fa2f-4256-8b6f-6bb8e105c657"
   },
   "outputs": [
    {
     "name": "stdout",
     "output_type": "stream",
     "text": [
      "[1, 1, 2, 3, 5, 8, 13, 21, 34, 34, 55, 89]\n"
     ]
    }
   ],
   "source": [
    "lst1 = [1, 1, 2, 3, 5, 8, 13, 21, 34]\n",
    "lst2 = [34, 55, 89]\n",
    "\n",
    "res1 = lst1 + lst2\n",
    "print(res1)"
   ]
  },
  {
   "cell_type": "code",
   "execution_count": null,
   "metadata": {
    "colab": {
     "base_uri": "https://localhost:8080/"
    },
    "executionInfo": {
     "elapsed": 16549,
     "status": "ok",
     "timestamp": 1732545873511,
     "user": {
      "displayName": "Phu Ho Nguyen",
      "userId": "03976883849839746830"
     },
     "user_tz": -420
    },
    "id": "TI1mjnayxgVz",
    "outputId": "a4133d51-68df-41b8-ff66-12dccc4f022d"
   },
   "outputs": [
    {
     "name": "stdout",
     "output_type": "stream",
     "text": [
      "['Element 0', 'Element 1', 'Element 3', 'Element 5', 'Element 7', 'Element 8', 'Element 9']\n"
     ]
    }
   ],
   "source": [
    "lst1 = [0,1,2,3,4,5,6,7,8,9]\n",
    "lst1 = [f\"Element {i}\" for i in lst1]\n",
    "\n",
    "def input_lst_del():\n",
    "    a = []\n",
    "    n = int(input(\"Số phần tử muốn xóa: \"))\n",
    "    for i in range(1,n+1):\n",
    "        a.append(int(input(f\"Nhập phần tử {i} cần xóa: \")))\n",
    "    return a\n",
    "\n",
    "def mypop(lst, a):\n",
    "    if type(a) == list:\n",
    "        lst = [lst[ele] for ele in range(len(lst)) if ele not in a]\n",
    "    elif type(a) == int:\n",
    "        lst = [lst[ele] for ele in range(len(lst)) if ele != a]\n",
    "    return lst\n",
    "\n",
    "inp = input('Xóa nhiều hay ít: ')\n",
    "if inp == 'nhiều' or inp == 'Nhiều' or inp == '1' or inp == 'yes':\n",
    "    a = input_lst_del()\n",
    "    lst1 = mypop(lst1, a)\n",
    "else:\n",
    "    a = int(input(\"Nhập phần tử cần xóa: \"))\n",
    "    lst1 = mypop(lst1, a)\n",
    "\n",
    "print(lst1)"
   ]
  },
  {
   "cell_type": "code",
   "execution_count": 6,
   "metadata": {
    "id": "ErQrhMtKxgV0"
   },
   "outputs": [
    {
     "data": {
      "text/plain": [
       "16.666666666666664"
      ]
     },
     "execution_count": 6,
     "metadata": {},
     "output_type": "execute_result"
    }
   ],
   "source": [
    "from random import randint as randi\n",
    "\n",
    "x = []\n",
    "N = 1000000\n",
    "# N = 6\n",
    "\n",
    "for k in range(N):\n",
    "    x.append(randi(1,6))\n",
    "\n",
    "expected = 1/6*100\n",
    "actual_pe = x.count(1)/1000000*100\n",
    "expected"
   ]
  },
  {
   "cell_type": "code",
   "execution_count": 7,
   "metadata": {
    "colab": {
     "base_uri": "https://localhost:8080/",
     "height": 430
    },
    "executionInfo": {
     "elapsed": 74546,
     "status": "ok",
     "timestamp": 1732545990628,
     "user": {
      "displayName": "Phu Ho Nguyen",
      "userId": "03976883849839746830"
     },
     "user_tz": -420
    },
    "id": "iE48dYIDxgV0",
    "outputId": "30e8c358-4ab2-4e61-aa63-142526ac6928"
   },
   "outputs": [
    {
     "data": {
      "image/png": "[encoded data removed]",
      "text/plain": [
       "<Figure size 640x480 with 1 Axes>"
      ]
     },
     "metadata": {},
     "output_type": "display_data"
    }
   ],
   "source": [
    "# ROBOT MOVING\n",
    "from random import choices, randint\n",
    "import numpy as np\n",
    "\n",
    "def move(r, x0):\n",
    "    if(r==1):\n",
    "        x0 += 1\n",
    "    else:\n",
    "        x0 -= 1\n",
    "    return x0\n",
    "\n",
    "def random_w(weight):\n",
    "    return choices((1,2), weights = weight, k = 1)[0]\n",
    "\n",
    "def random_nw():\n",
    "    return randint(1,2)\n",
    "\n",
    "def robot_moving(times = int, is_weighted = False):\n",
    "    global _max\n",
    "\n",
    "    x = [0]\n",
    "    k = 0\n",
    "    while True:\n",
    "        if is_weighted == False:\n",
    "            r = random_nw()\n",
    "        else:\n",
    "            r = random_w([0.7,0.3])\n",
    "        x.append(move(r, x[k]))\n",
    "        k += 1\n",
    "        if x[k] > _max:\n",
    "            _max = x[k]\n",
    "\n",
    "        if(k == times):\n",
    "            break\n",
    "\n",
    "max_values = []\n",
    "times_moving = []\n",
    "for i in range(1,10000):\n",
    "    _max = 0\n",
    "    robot_moving(times = i, is_weighted = False)\n",
    "    max_values.append(_max)\n",
    "    times_moving.append(i)\n",
    "\n",
    "max_values = np.array(max_values)\n",
    "times_moving = np.array(times_moving)\n",
    "\n",
    "import matplotlib.pyplot as plt\n",
    "\n",
    "x = times_moving\n",
    "y = max_values\n",
    "\n",
    "fig, ax = plt.subplots()\n",
    "ax.plot(x, y)\n",
    "plt.show()"
   ]
  },
  {
   "cell_type": "code",
   "execution_count": 8,
   "metadata": {
    "colab": {
     "base_uri": "https://localhost:8080/"
    },
    "executionInfo": {
     "elapsed": 2647,
     "status": "ok",
     "timestamp": 1732545994938,
     "user": {
      "displayName": "Phu Ho Nguyen",
      "userId": "03976883849839746830"
     },
     "user_tz": -420
    },
    "id": "c5dolo8axgV1",
    "outputId": "447f91c8-4927-43da-ed19-eb31973e8933"
   },
   "outputs": [
    {
     "name": "stdout",
     "output_type": "stream",
     "text": [
      "309570.0\n",
      "1\n",
      "238929.0\n",
      "1\n",
      "290828.0\n",
      "1\n",
      "241206.0\n",
      "1\n",
      "239315.0\n",
      "1\n",
      "238936.0\n",
      "1\n",
      "241671.0\n",
      "1\n",
      "370746.0\n",
      "1\n",
      "399723.0\n",
      "1\n",
      "390027.0\n",
      "1\n",
      "289500.0\n",
      "1\n",
      "310173.0\n",
      "1\n",
      "260990.0\n",
      "1\n",
      "268955.0\n",
      "1\n",
      "252662.0\n",
      "1\n",
      "442054.0\n",
      "1\n",
      "289237.0\n",
      "1\n",
      "279715.0\n",
      "1\n",
      "241039.0\n",
      "1\n",
      "339501.0\n",
      "1\n",
      "249343.0\n",
      "1\n",
      "251117.0\n",
      "1\n",
      "259247.0\n",
      "1\n",
      "249412.0\n",
      "1\n",
      "430019.0\n",
      "1\n",
      "239422.0\n",
      "1\n",
      "250506.0\n",
      "1\n",
      "239780.0\n",
      "1\n",
      "241437.0\n",
      "1\n",
      "230694.0\n",
      "1\n",
      "239413.0\n",
      "1\n",
      "239363.0\n",
      "1\n",
      "230768.0\n",
      "1\n",
      "268826.0\n",
      "1\n",
      "468745.0\n",
      "1\n",
      "309422.0\n",
      "1\n",
      "271187.0\n",
      "1\n",
      "250971.0\n",
      "1\n",
      "249255.0\n",
      "1\n",
      "272443.0\n",
      "1\n",
      "249803.0\n",
      "1\n",
      "288782.0\n",
      "1\n",
      "378969.0\n",
      "1\n",
      "259726.0\n",
      "1\n",
      "239408.0\n",
      "1\n",
      "250781.0\n",
      "1\n",
      "251660.0\n",
      "1\n",
      "259266.0\n",
      "1\n",
      "250564.0\n",
      "1\n",
      "270872.0\n",
      "1\n",
      "279536.0\n",
      "1\n",
      "261312.0\n",
      "1\n",
      "358598.0\n",
      "1\n",
      "251365.0\n",
      "1\n",
      "259309.0\n",
      "1\n",
      "259306.0\n",
      "1\n",
      "289235.0\n",
      "1\n",
      "410254.0\n",
      "1\n",
      "401402.0\n",
      "1\n",
      "329154.0\n",
      "1\n",
      "405412.0\n",
      "1\n",
      "269263.0\n",
      "1\n",
      "268896.0\n",
      "1\n",
      "271523.0\n",
      "1\n",
      "320725.0\n",
      "1\n",
      "259702.0\n",
      "1\n",
      "251143.0\n",
      "1\n",
      "261157.0\n",
      "1\n",
      "339990.0\n",
      "1\n",
      "251756.0\n",
      "1\n",
      "245221.0\n",
      "1\n",
      "243316.0\n",
      "1\n",
      "259306.0\n",
      "1\n",
      "239353.0\n",
      "1\n",
      "249803.0\n",
      "1\n",
      "300882.0\n",
      "1\n",
      "271227.0\n",
      "1\n",
      "268371.0\n",
      "1\n",
      "319526.0\n",
      "1\n",
      "249388.0\n",
      "1\n",
      "249281.0\n",
      "1\n",
      "239410.0\n",
      "1\n",
      "251894.0\n",
      "1\n",
      "261562.0\n",
      "1\n",
      "249739.0\n",
      "1\n",
      "258901.0\n",
      "1\n",
      "239763.0\n",
      "1\n",
      "418513.0\n",
      "1\n",
      "251284.0\n",
      "1\n",
      "241148.0\n",
      "1\n",
      "247920.0\n",
      "1\n",
      "239389.0\n",
      "1\n",
      "709233.0\n",
      "1\n",
      "239718.0\n",
      "1\n",
      "261087.0\n",
      "1\n",
      "399268.0\n",
      "1\n",
      "239451.0\n",
      "1\n",
      "250404.0\n",
      "1\n",
      "228949.0\n",
      "1\n",
      "249331.0\n",
      "1\n"
     ]
    }
   ],
   "source": [
    "import time\n",
    "\n",
    "def random(lst = list):\n",
    "    start = time.time()\n",
    "    for _ in range(1000000):\n",
    "        pass\n",
    "    end = time.time()\n",
    "\n",
    "    _time = round((end - start)*10000000,0)\n",
    "    choose = 0\n",
    "    print(_time)\n",
    "    while _time > 1:\n",
    "        for i in range(len(lst)-1,-1,-1):\n",
    "            choose = lst[i]\n",
    "            _time = _time%(i+1)\n",
    "            if _time > 1:\n",
    "                break\n",
    "\n",
    "    return choose\n",
    "\n",
    "for _ in range(100):\n",
    "    print(random([1,2]))"
   ]
  },
  {
   "cell_type": "code",
   "execution_count": 10,
   "metadata": {
    "colab": {
     "base_uri": "https://localhost:8080/"
    },
    "executionInfo": {
     "elapsed": 439,
     "status": "ok",
     "timestamp": 1732546056963,
     "user": {
      "displayName": "Phu Ho Nguyen",
      "userId": "03976883849839746830"
     },
     "user_tz": -420
    },
    "id": "VamFQhpqxgV1",
    "outputId": "a3e2efe7-147d-4ce2-f71b-dc9fe1fe2a8b"
   },
   "outputs": [
    {
     "name": "stdout",
     "output_type": "stream",
     "text": [
      "x before pop():  [3, 5, 1, 7, 10]\n",
      "x after pop():  [3, 5, 7, 10]\n",
      "m taken from x by pop():  1\n",
      "[11, 12, 15]\n"
     ]
    }
   ],
   "source": [
    "import math\n",
    "\n",
    "# extend(), pop(), len(), remove(), insert(), sort(a, reversed = True)\n",
    "x = [3,5,1,7,10]\n",
    "\n",
    "print('x before pop(): ', x)\n",
    "\n",
    "i = 2\n",
    "m = x.pop(i)\n",
    "\n",
    "print('x after pop(): ', x)\n",
    "print('m taken from x by pop(): ', m)\n",
    "\n",
    "# ham map(ham,x)\n",
    "y = [11.3, 12.6, 15.0]\n",
    "y = list(map(math.floor, y)) # lam tron xuong\n",
    "print(y)"
   ]
  },
  {
   "cell_type": "code",
   "execution_count": 12,
   "metadata": {
    "colab": {
     "base_uri": "https://localhost:8080/"
    },
    "executionInfo": {
     "elapsed": 486,
     "status": "ok",
     "timestamp": 1732546061396,
     "user": {
      "displayName": "Phu Ho Nguyen",
      "userId": "03976883849839746830"
     },
     "user_tz": -420
    },
    "id": "TBFVeiHqxgV2",
    "outputId": "acba3ac9-6cda-4f15-ad0e-275e932da147"
   },
   "outputs": [
    {
     "name": "stdout",
     "output_type": "stream",
     "text": [
      "['hgwe', 'hpiw', 'jqds', 'katw', 'qcfs', 'ukzm', 'vehw', 'whyn', 'wyxn', 'yude']\n"
     ]
    }
   ],
   "source": [
    "from random import *\n",
    "from string import *\n",
    "\n",
    "def RandString(num):\n",
    "    a = ascii_lowercase\n",
    "    b = []\n",
    "    for i in range(len(a)):\n",
    "        b.append(a[i])\n",
    "    leng = 0\n",
    "    temp = ''\n",
    "\n",
    "    while leng < num:\n",
    "        tem_letter = choices(b,k=1)[0]\n",
    "        temp += tem_letter\n",
    "        b.remove(tem_letter)\n",
    "        leng += 1\n",
    "\n",
    "    return temp\n",
    "\n",
    "def ListOfRandomStrings(n, m):\n",
    "    s = []\n",
    "    k = 0\n",
    "    while k<n:\n",
    "        w=RandString(m)\n",
    "        if w not in s:\n",
    "            s.append(w)\n",
    "            k+=1\n",
    "    s.sort()\n",
    "    return s\n",
    "\n",
    "print(ListOfRandomStrings(10,4))"
   ]
  },
  {
   "cell_type": "code",
   "execution_count": 14,
   "metadata": {
    "colab": {
     "base_uri": "https://localhost:8080/",
     "height": 415
    },
    "executionInfo": {
     "elapsed": 614,
     "status": "ok",
     "timestamp": 1732546063869,
     "user": {
      "displayName": "Phu Ho Nguyen",
      "userId": "03976883849839746830"
     },
     "user_tz": -420
    },
    "id": "fSXuvDSwxgV2",
    "outputId": "170bf6e9-3237-4cc9-c7a7-ff88fc4c26c7"
   },
   "outputs": [
    {
     "data": {
      "image/png": "[encoded data removed]",
      "text/plain": [
       "<Figure size 640x480 with 1 Axes>"
      ]
     },
     "metadata": {},
     "output_type": "display_data"
    }
   ],
   "source": [
    "from random import normalvariate as randn\n",
    "import matplotlib.pyplot as plt\n",
    "from math import *\n",
    "import numpy as np\n",
    "\n",
    "def MakeCloud(n,sigma):\n",
    "    x=[]\n",
    "    y=[]\n",
    "\n",
    "    for _ in range(n):\n",
    "        r = randn(0,sigma)\n",
    "        x.append(r)\n",
    "        r = randn(0,sigma)\n",
    "        y.append(r)\n",
    "    return (x,y)\n",
    "\n",
    "def Diameter(x,y):\n",
    "    d = 0\n",
    "    n = len(x)\n",
    "    for i in range(n):\n",
    "        for j in range(n):\n",
    "            dx = x[i]-x[j]\n",
    "            dy = y[i]-y[j]\n",
    "            dij = sqrt(dx**2+dy**2)\n",
    "            if dij>d:\n",
    "                d = dij\n",
    "                imax = i\n",
    "                jmax = j\n",
    "    return (d,imax,jmax)\n",
    "\n",
    "def ShowCloud(x, y):\n",
    "    font = {'family':'fantasy','color':'blue','size':25}\n",
    "    font1 = {'family':'fantasy','color':'black','size':15}\n",
    "\n",
    "    arg_xMax = np.argmax([abs(i) for i in x])\n",
    "    arg_yMax = np.argmax([abs(i) for i in y])\n",
    "\n",
    "    M = max(x[arg_xMax],y[arg_yMax])\n",
    "    plt.title(\"Cloud of points\", fontdict=font)\n",
    "\n",
    "    plt.rcParams[\"figure.figsize\"] = [M+0.5, M+0.5]\n",
    "    plt.rcParams[\"figure.autolayout\"] = True\n",
    "\n",
    "    x = np.array(x)\n",
    "    y = np.array(y)\n",
    "\n",
    "    plt.plot(x, y, '.')\n",
    "    plt.plot(x[arg_xMax], y[arg_xMax], '*')\n",
    "    plt.plot(x[arg_yMax], y[arg_yMax], '*')\n",
    "    plt.xlabel('X-axis', fontdict= font1)\n",
    "    plt.ylabel('Y-axis', fontdict= font1)\n",
    "\n",
    "    plt.grid()\n",
    "    plt.show()\n",
    "\n",
    "x = []\n",
    "y = []\n",
    "(x,y) = MakeCloud(1000,1)\n",
    "ShowCloud(x, y)"
   ]
  }
 ],
 "metadata": {
  "colab": {
   "provenance": []
  },
  "kernelspec": {
   "display_name": "venv",
   "language": "python",
   "name": "python3"
  },
  "language_info": {
   "codemirror_mode": {
    "name": "ipython",
    "version": 3
   },
   "file_extension": ".py",
   "mimetype": "text/x-python",
   "name": "python",
   "nbconvert_exporter": "python",
   "pygments_lexer": "ipython3",
   "version": "3.12.3"
  }
 },
 "nbformat": 4,
 "nbformat_minor": 0
}
