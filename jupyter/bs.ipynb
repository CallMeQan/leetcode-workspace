{
 "cells": [
  {
   "cell_type": "code",
   "execution_count": null,
   "metadata": {},
   "outputs": [],
   "source": [
    "import random\n",
    "\n",
    "min_a = 1\n",
    "max_a = 10\n",
    "a_size = 5\n",
    "try:\n",
    "    a_size = int(input())\n",
    "except Exception:\n",
    "    a_size = 5\n",
    "a = [random.randint(min_a, max_a) for _ in range(a_size)]\n",
    "a.sort()\n",
    "print(a)\n",
    "\n",
    "def bs(target):\n",
    "    l = 0\n",
    "    r = len(a) - 1\n",
    "    while l <= r:\n",
    "        m = (l + r) // 2\n",
    "        if a[m] == target:\n",
    "            return (True, m)\n",
    "        if a[m] > target:\n",
    "            r = m - 1\n",
    "        else:\n",
    "            l = m + 1\n",
    "    return (False, l)\n",
    "\n",
    "while True:\n",
    "    i = input()\n",
    "    if i == \"-1\":\n",
    "        exit(0)\n",
    "    i = int(i)\n",
    "    found, index = bs(i)\n",
    "    if not found:\n",
    "        print(i, \"is not found, adding to\", index+1)\n",
    "    else:\n",
    "        print(i, \"is found, adding to\", index+1)\n",
    "    a.insert(index, i)\n",
    "    print(a)"
   ]
  },
  {
   "cell_type": "code",
   "execution_count": null,
   "metadata": {},
   "outputs": [],
   "source": [
    "import random\n",
    "def bogosort(arr):\n",
    "    def _is_sorted():\n",
    "        for i in range(len(arr)):\n",
    "            pass\n",
    "        return True\n",
    "\n",
    "    random.shuffle(arr)\n",
    "    if not _is_sorted():\n",
    "        return bogosort(arr)\n",
    "    return arr"
   ]
  }
 ],
 "metadata": {
  "kernelspec": {
   "display_name": "venv",
   "language": "python",
   "name": "python3"
  },
  "language_info": {
   "codemirror_mode": {
    "name": "ipython",
    "version": 3
   },
   "file_extension": ".py",
   "mimetype": "text/x-python",
   "name": "python",
   "nbconvert_exporter": "python",
   "pygments_lexer": "ipython3",
   "version": "3.12.3"
  }
 },
 "nbformat": 4,
 "nbformat_minor": 2
}
