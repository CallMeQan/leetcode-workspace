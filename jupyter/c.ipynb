{
 "cells": [
  {
   "cell_type": "code",
   "execution_count": null,
   "metadata": {},
   "outputs": [
    {
     "name": "stdout",
     "output_type": "stream",
     "text": [
      "Invalid number.\n",
      "Invalid number.\n",
      "-213 is odd.\n"
     ]
    }
   ],
   "source": [
    "def sum_of_digits(n):\n",
    "    ans = 0\n",
    "    while n > 0:\n",
    "        ans += n % 10\n",
    "        n //= 10\n",
    "    return ans\n",
    "\n",
    "while True:\n",
    "    try:\n",
    "        n = int(input(\"Enter a number: \"))\n",
    "    except ValueError:\n",
    "        print(\"Invalid input\")\n",
    "        continue\n",
    "    if n == 0:\n",
    "        print(\"Exiting...\")\n",
    "        break\n",
    "    if n < 0:\n",
    "        print(\"Again\")\n",
    "        continue\n",
    "    print(sum_of_digits(n))"
   ]
  }
 ],
 "metadata": {
  "kernelspec": {
   "display_name": "venv",
   "language": "python",
   "name": "python3"
  },
  "language_info": {
   "codemirror_mode": {
    "name": "ipython",
    "version": 3
   },
   "file_extension": ".py",
   "mimetype": "text/x-python",
   "name": "python",
   "nbconvert_exporter": "python",
   "pygments_lexer": "ipython3",
   "version": "3.12.3"
  }
 },
 "nbformat": 4,
 "nbformat_minor": 2
}
