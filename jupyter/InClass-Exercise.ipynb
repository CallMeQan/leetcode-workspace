{
 "cells": [
  {
   "cell_type": "code",
   "execution_count": 49,
   "metadata": {},
   "outputs": [
    {
     "name": "stdout",
     "output_type": "stream",
     "text": [
      "[2, 3, 4]\n",
      "[1, 2, 3, 4]\n"
     ]
    }
   ],
   "source": [
    "def f(x: list):\n",
    "    x = x[1:]\n",
    "    print(x)\n",
    "\n",
    "if __name__ == '__main__':\n",
    "    x = [1, 2, 3, 4]\n",
    "    f(x)\n",
    "    print(x)"
   ]
  },
  {
   "cell_type": "code",
   "execution_count": 50,
   "metadata": {},
   "outputs": [
    {
     "name": "stdout",
     "output_type": "stream",
     "text": [
      "[1, 2, 3, 4]\n",
      "False\n",
      "[1, 2, 3, 4]\n"
     ]
    }
   ],
   "source": [
    "def f(x: list):\n",
    "    u = x[:]\n",
    "    print(u)\n",
    "    print(u is x)\n",
    "\n",
    "if __name__ == '__main__':\n",
    "    x = [1, 2, 3, 4]\n",
    "    f(x)\n",
    "    print(x)"
   ]
  },
  {
   "cell_type": "code",
   "execution_count": null,
   "metadata": {},
   "outputs": [
    {
     "name": "stdout",
     "output_type": "stream",
     "text": [
      "Number of perfect shuffles needed to return to original order: 4\n"
     ]
    }
   ],
   "source": [
    "import numpy as np\n",
    "\n",
    "def perfect_shuffle(arr):\n",
    "\n",
    "    half = len(arr) // 2\n",
    "    shuffled = [None] * len(arr)\n",
    "    shuffled[::2] = arr[:half]\n",
    "    shuffled[1::2] = arr[half:]\n",
    "    return shuffled\n",
    "\n",
    "def count_shuffles(n):\n",
    "    if n == 0:\n",
    "        return 0\n",
    "    if len(n) % 2 != 0:\n",
    "        return -1\n",
    "    arr = np.arange(2, 2*n+1, 2)\n",
    "    original = arr.copy()\n",
    "    count = 0\n",
    "    while True:\n",
    "        arr = perfect_shuffle(arr)\n",
    "        count += 1\n",
    "        if np.array_equal(arr, original):\n",
    "            break\n",
    "    return count\n",
    "\n",
    "# Time Complexity: O(n)\n",
    "# Space Complexity: O(n)\n",
    "\n",
    "n = int(input(\"Enter the number of cards: \"))\n",
    "shuffle_count = count_shuffles(n)\n",
    "print(f\"Number of perfect shuffles needed to return to original order: {shuffle_count}\")"
   ]
  },
  {
   "cell_type": "code",
   "execution_count": 5,
   "metadata": {},
   "outputs": [
    {
     "ename": "KeyboardInterrupt",
     "evalue": "",
     "output_type": "error",
     "traceback": [
      "\u001b[1;31m---------------------------------------------------------------------------\u001b[0m",
      "\u001b[1;31mKeyboardInterrupt\u001b[0m                         Traceback (most recent call last)",
      "Cell \u001b[1;32mIn[5], line 31\u001b[0m\n\u001b[0;32m     29\u001b[0m n \u001b[38;5;241m=\u001b[39m \u001b[38;5;28mint\u001b[39m(\u001b[38;5;28minput\u001b[39m(\u001b[38;5;124m\"\u001b[39m\u001b[38;5;124mEnter the number n: \u001b[39m\u001b[38;5;124m\"\u001b[39m))\n\u001b[0;32m     30\u001b[0m startTime \u001b[38;5;241m=\u001b[39m time\u001b[38;5;241m.\u001b[39mtime()\n\u001b[1;32m---> 31\u001b[0m primes \u001b[38;5;241m=\u001b[39m \u001b[43msieve_of_atkin\u001b[49m\u001b[43m(\u001b[49m\u001b[43mn\u001b[49m\u001b[43m)\u001b[49m\n\u001b[0;32m     32\u001b[0m \u001b[38;5;28mprint\u001b[39m(\u001b[38;5;124mf\u001b[39m\u001b[38;5;124m\"\u001b[39m\u001b[38;5;124mTime taken to generate prime numbers up to \u001b[39m\u001b[38;5;132;01m{\u001b[39;00mn\u001b[38;5;132;01m}\u001b[39;00m\u001b[38;5;124m: \u001b[39m\u001b[38;5;132;01m{\u001b[39;00mtime\u001b[38;5;241m.\u001b[39mtime()\u001b[38;5;250m \u001b[39m\u001b[38;5;241m-\u001b[39m\u001b[38;5;250m \u001b[39mstartTime\u001b[38;5;132;01m}\u001b[39;00m\u001b[38;5;124m seconds\u001b[39m\u001b[38;5;124m\"\u001b[39m)\n\u001b[0;32m     33\u001b[0m \u001b[38;5;28mprint\u001b[39m(primes[\u001b[38;5;28mlen\u001b[39m(primes) \u001b[38;5;241m-\u001b[39m \u001b[38;5;241m1\u001b[39m])\n",
      "Cell \u001b[1;32mIn[5], line 15\u001b[0m, in \u001b[0;36msieve_of_atkin\u001b[1;34m(limit)\u001b[0m\n\u001b[0;32m     13\u001b[0m             sieve[n] \u001b[38;5;241m=\u001b[39m \u001b[38;5;129;01mnot\u001b[39;00m sieve[n]\n\u001b[0;32m     14\u001b[0m         n \u001b[38;5;241m=\u001b[39m \u001b[38;5;241m3\u001b[39m\u001b[38;5;241m*\u001b[39mx\u001b[38;5;241m*\u001b[39m\u001b[38;5;241m*\u001b[39m\u001b[38;5;241m2\u001b[39m \u001b[38;5;241m-\u001b[39m y\u001b[38;5;241m*\u001b[39m\u001b[38;5;241m*\u001b[39m\u001b[38;5;241m2\u001b[39m\n\u001b[1;32m---> 15\u001b[0m         \u001b[38;5;28;01mif\u001b[39;00m x \u001b[38;5;241m>\u001b[39m y \u001b[38;5;129;01mand\u001b[39;00m n \u001b[38;5;241m<\u001b[39m\u001b[38;5;241m=\u001b[39m limit \u001b[38;5;129;01mand\u001b[39;00m n \u001b[38;5;241m%\u001b[39m \u001b[38;5;241m12\u001b[39m \u001b[38;5;241m==\u001b[39m \u001b[38;5;241m11\u001b[39m:\n\u001b[0;32m     16\u001b[0m             sieve[n] \u001b[38;5;241m=\u001b[39m \u001b[38;5;129;01mnot\u001b[39;00m sieve[n]\n\u001b[0;32m     18\u001b[0m \u001b[38;5;28;01mfor\u001b[39;00m n \u001b[38;5;129;01min\u001b[39;00m \u001b[38;5;28mrange\u001b[39m(\u001b[38;5;241m5\u001b[39m, \u001b[38;5;28mint\u001b[39m(limit\u001b[38;5;241m*\u001b[39m\u001b[38;5;241m*\u001b[39m\u001b[38;5;241m0.5\u001b[39m) \u001b[38;5;241m+\u001b[39m \u001b[38;5;241m1\u001b[39m):\n",
      "\u001b[1;31mKeyboardInterrupt\u001b[0m: "
     ]
    }
   ],
   "source": [
    "import time\n",
    "def sieve_of_atkin(limit):\n",
    "    primes = [2, 3]\n",
    "    sieve = [False] * (limit + 1)\n",
    "    \n",
    "    for x in range(1, int(limit**0.5) + 1):\n",
    "        for y in range(1, int(limit**0.5) + 1):\n",
    "            n = 4*x**2 + y**2\n",
    "            if n <= limit and (n % 12 == 1 or n % 12 == 5):\n",
    "                sieve[n] = not sieve[n]\n",
    "            n = 3*x**2 + y**2\n",
    "            if n <= limit and n % 12 == 7:\n",
    "                sieve[n] = not sieve[n]\n",
    "            n = 3*x**2 - y**2\n",
    "            if x > y and n <= limit and n % 12 == 11:\n",
    "                sieve[n] = not sieve[n]\n",
    "    \n",
    "    for n in range(5, int(limit**0.5) + 1):\n",
    "        if sieve[n]:\n",
    "            for k in range(n**2, limit + 1, n**2):\n",
    "                sieve[k] = False\n",
    "    \n",
    "    for n in range(5, limit + 1):\n",
    "        if sieve[n]:\n",
    "            primes.append(n)\n",
    "    \n",
    "    return primes\n",
    "\n",
    "n = int(input(\"Enter the number n: \"))\n",
    "startTime = time.time()\n",
    "primes = sieve_of_atkin(n)\n",
    "print(f\"Time taken to generate prime numbers up to {n}: {time.time() - startTime} seconds\")\n",
    "print(primes[len(primes) - 1])"
   ]
  }
 ],
 "metadata": {
  "kernelspec": {
   "display_name": "venv",
   "language": "python",
   "name": "python3"
  },
  "language_info": {
   "codemirror_mode": {
    "name": "ipython",
    "version": 3
   },
   "file_extension": ".py",
   "mimetype": "text/x-python",
   "name": "python",
   "nbconvert_exporter": "python",
   "pygments_lexer": "ipython3",
   "version": "3.12.3"
  }
 },
 "nbformat": 4,
 "nbformat_minor": 2
}
