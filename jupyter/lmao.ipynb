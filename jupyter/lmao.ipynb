{
 "cells": [
  {
   "cell_type": "code",
   "execution_count": 7,
   "metadata": {},
   "outputs": [
    {
     "name": "stdout",
     "output_type": "stream",
     "text": [
      "Probability of 1: 0.09158415841584158\n",
      "Probability of 2: 0.09931930693069307\n",
      "Probability of 3: 0.10767326732673267\n",
      "Probability of 4: 0.09653465346534654\n",
      "Probability of 5: 0.09282178217821782\n",
      "Probability of 6: 0.11571782178217822\n",
      "Probability of 7: 0.0999381188118812\n",
      "Probability of 8: 0.0952970297029703\n",
      "Probability of 9: 0.10272277227722772\n",
      "Probability of 10: 0.0983910891089109\n",
      "Sum of probabilities: 1.0\n"
     ]
    }
   ],
   "source": [
    "from random import randint\n",
    "amount = input(\"Enter the number of random numbers to generate: \")\n",
    "\n",
    "x = [randint(1, 10) for i in range(int(amount))]\n",
    "\n",
    "# Probability of that number\n",
    "def prob(x, n):\n",
    "    return x.count(n) / len(x)\n",
    "sum = 0\n",
    "for i in range(1, 11):\n",
    "    p = prob(x, i)\n",
    "    sum += p\n",
    "    print(f\"Probability of {i}: {p}\")\n",
    "print(f\"Sum of probabilities: {sum}\")"
   ]
  },
  {
   "cell_type": "code",
   "execution_count": 9,
   "metadata": {},
   "outputs": [
    {
     "ename": "TypeError",
     "evalue": "'float' object is not callable",
     "output_type": "error",
     "traceback": [
      "\u001b[1;31m---------------------------------------------------------------------------\u001b[0m",
      "\u001b[1;31mTypeError\u001b[0m                                 Traceback (most recent call last)",
      "Cell \u001b[1;32mIn[9], line 12\u001b[0m\n\u001b[0;32m     10\u001b[0m \u001b[38;5;28;01mdef\u001b[39;00m \u001b[38;5;21mprob12\u001b[39m(D):\n\u001b[0;32m     11\u001b[0m     \u001b[38;5;28;01mreturn\u001b[39;00m \u001b[38;5;28msum\u001b[39m(\u001b[38;5;241m1\u001b[39m \u001b[38;5;28;01mfor\u001b[39;00m d1, d2 \u001b[38;5;129;01min\u001b[39;00m D \u001b[38;5;28;01mif\u001b[39;00m d1 \u001b[38;5;241m==\u001b[39m \u001b[38;5;241m1\u001b[39m \u001b[38;5;129;01mand\u001b[39;00m d2 \u001b[38;5;241m==\u001b[39m \u001b[38;5;241m1\u001b[39m) \u001b[38;5;241m/\u001b[39m \u001b[38;5;28mlen\u001b[39m(D)\n\u001b[1;32m---> 12\u001b[0m \u001b[38;5;28mprint\u001b[39m(\u001b[38;5;124mf\u001b[39m\u001b[38;5;124m\"\u001b[39m\u001b[38;5;124mProbability of 1 in the first die: \u001b[39m\u001b[38;5;132;01m{\u001b[39;00m\u001b[43mprob1\u001b[49m\u001b[43m(\u001b[49m\u001b[43mD\u001b[49m\u001b[43m)\u001b[49m\u001b[38;5;132;01m}\u001b[39;00m\u001b[38;5;124m\"\u001b[39m)\n\u001b[0;32m     13\u001b[0m \u001b[38;5;28mprint\u001b[39m(\u001b[38;5;124mf\u001b[39m\u001b[38;5;124m\"\u001b[39m\u001b[38;5;124mProbability of 1 in the second die: \u001b[39m\u001b[38;5;132;01m{\u001b[39;00mprob2(D)\u001b[38;5;132;01m}\u001b[39;00m\u001b[38;5;124m\"\u001b[39m)\n\u001b[0;32m     14\u001b[0m \u001b[38;5;28mprint\u001b[39m(\u001b[38;5;124mf\u001b[39m\u001b[38;5;124m\"\u001b[39m\u001b[38;5;124mProbability of 1 in both dice: \u001b[39m\u001b[38;5;132;01m{\u001b[39;00mprob12(D)\u001b[38;5;132;01m}\u001b[39;00m\u001b[38;5;124m\"\u001b[39m)\n",
      "Cell \u001b[1;32mIn[9], line 5\u001b[0m, in \u001b[0;36mprob1\u001b[1;34m(D)\u001b[0m\n\u001b[0;32m      4\u001b[0m \u001b[38;5;28;01mdef\u001b[39;00m \u001b[38;5;21mprob1\u001b[39m(D):\n\u001b[1;32m----> 5\u001b[0m     \u001b[38;5;28;01mreturn\u001b[39;00m \u001b[38;5;28;43msum\u001b[39;49m\u001b[43m(\u001b[49m\u001b[38;5;241;43m1\u001b[39;49m\u001b[43m \u001b[49m\u001b[38;5;28;43;01mfor\u001b[39;49;00m\u001b[43m \u001b[49m\u001b[43md1\u001b[49m\u001b[43m,\u001b[49m\u001b[43m \u001b[49m\u001b[43m_\u001b[49m\u001b[43m \u001b[49m\u001b[38;5;129;43;01min\u001b[39;49;00m\u001b[43m \u001b[49m\u001b[43mD\u001b[49m\u001b[43m \u001b[49m\u001b[38;5;28;43;01mif\u001b[39;49;00m\u001b[43m \u001b[49m\u001b[43md1\u001b[49m\u001b[43m \u001b[49m\u001b[38;5;241;43m==\u001b[39;49m\u001b[43m \u001b[49m\u001b[38;5;241;43m1\u001b[39;49m\u001b[43m)\u001b[49m \u001b[38;5;241m/\u001b[39m \u001b[38;5;28mlen\u001b[39m(D)\n",
      "\u001b[1;31mTypeError\u001b[0m: 'float' object is not callable"
     ]
    }
   ],
   "source": [
    "N = int(amount)\n",
    "D = [(randint(1, 6), randint(1, 6)) for _ in range(N)]\n",
    "# How many 1 appear in the first die\n",
    "def prob1(D):\n",
    "    return sum(1 for d1, _ in D if d1 == 1) / len(D)\n",
    "# How many 1 appear in the second die\n",
    "def prob2(D):\n",
    "    return sum(1 for _, d2 in D if d2 == 1) / len(D)\n",
    "# How many 1 appear in both dice\n",
    "def prob12(D):\n",
    "    return sum(1 for d1, d2 in D if d1 == 1 and d2 == 1) / len(D)\n",
    "print(f\"Probability of 1 in the first die: {prob1(D)}\")\n",
    "print(f\"Probability of 1 in the second die: {prob2(D)}\")\n",
    "print(f\"Probability of 1 in both dice: {prob12(D)}\")"
   ]
  }
 ],
 "metadata": {
  "kernelspec": {
   "display_name": "venv",
   "language": "python",
   "name": "python3"
  },
  "language_info": {
   "codemirror_mode": {
    "name": "ipython",
    "version": 3
   },
   "file_extension": ".py",
   "mimetype": "text/x-python",
   "name": "python",
   "nbconvert_exporter": "python",
   "pygments_lexer": "ipython3",
   "version": "3.12.3"
  }
 },
 "nbformat": 4,
 "nbformat_minor": 2
}
