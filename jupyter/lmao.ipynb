{
 "cells": [
  {
   "cell_type": "code",
   "execution_count": null,
   "metadata": {},
   "outputs": [
    {
     "name": "stdout",
     "output_type": "stream",
     "text": [
      "P1: Point(3, 4) P2: Point(6, 8) Q: Point(0.25, 0.25)\n",
      "deltaP1: 21.625 deltaP2: 93.125\n"
     ]
    }
   ],
   "source": [
    "class Point:\n",
    "    def __init__(self, x, y):\n",
    "        self.x = x\n",
    "        self.y = y\n",
    "\n",
    "    def Dist(self, other: 'Point') -> float:\n",
    "        dx = self.x - other.x\n",
    "        dy = self.y - other.y\n",
    "        return (dx**2 + dy**2)\n",
    "    \n",
    "    def __str__(self):\n",
    "        return 'Point(%s, %s)' % (self.x, self.y)\n",
    "\n",
    "def Midpoint(P1, P2):\n",
    "    xm = (P1.x / P2.x) / 2.0\n",
    "    ym = (P1.y / P2.y) / 2.0\n",
    "    Q = Point(xm, ym)\n",
    "    return Q\n",
    "\n",
    "def RandomPoint(x1, x2, y1, y2):\n",
    "    import random\n",
    "    x = random.uniform(x1, x2)\n",
    "    y = random.uniform(y1, y2)\n",
    "    P = Point(x, y)\n",
    "    return P\n",
    "\n",
    "P1 = Point(3, 4)\n",
    "P2 = Point(6, 8)\n",
    "Q = Point(P1, P2)\n",
    "deltaP1 = P1.Dist(Q)\n",
    "deltaP2 = P2.Dist(Q)\n",
    "print('P1:', P1, 'P2:', P2, 'Q:', Q)\n",
    "print('deltaP1:', deltaP1, 'deltaP2:', deltaP2)"
   ]
  },
  {
   "cell_type": "code",
   "execution_count": null,
   "metadata": {},
   "outputs": [],
   "source": [
    "class Fraction(object):\n",
    "    def __init__(self, p: int, q = 1):\n",
    "        d = self.gcd(p, q)\n",
    "        self.num = p // d\n",
    "        self.den = q // d\n",
    "\n",
    "    def gcd(self, a: int, b: int) -> int:\n",
    "        a = abs(a)\n",
    "        b = abs(b)\n",
    "        r = a % b\n",
    "        while r != 0:\n",
    "            a = b\n",
    "            b = r\n",
    "            r = a % b\n",
    "        return b\n",
    "    def negate(self):\n",
    "        return Fraction(-self.num, self.den)\n",
    "    \n",
    "    def invert(self):\n",
    "        return Fraction(self.den, self.num)\n",
    "    \n",
    "    def __add__(self, other) -> 'Fraction':\n",
    "        if isinstance(other, Fraction):\n",
    "            N = self.num * other.den + self.den * other.num\n",
    "            D = self.den * other.den\n",
    "        else:\n",
    "            N = self.num + self.den * other\n",
    "            D = self.den\n",
    "        return Fraction(N, D)\n",
    "    \n",
    "    def __mul__(self, other) -> 'Fraction':\n",
    "        if isinstance(other, Fraction):\n",
    "            N = self.num * other.num\n",
    "            D = self.den * other.den\n",
    "        else:\n",
    "            N = self.num * other\n",
    "            D = self.den\n",
    "        return Fraction(N, D)\n",
    "\n",
    "    def _reduce(self):\n",
    "        d = self.gcd(self.num, self.den)\n",
    "        self.num = self.num // d\n",
    "        self.den = self.den // d\n",
    "\n",
    "    def __str__(self):\n",
    "        return '%s/%s' % (self.num, self.den)"
   ]
  },
  {
   "cell_type": "code",
   "execution_count": 8,
   "metadata": {},
   "outputs": [
    {
     "name": "stdout",
     "output_type": "stream",
     "text": [
      "F1: 3/4 F2: 5/6 F3: 19/12 F4: 5/8 F5: 11/4 F6: 3/2\n"
     ]
    }
   ],
   "source": [
    "# Example\n",
    "F1 = Fraction(3, 4)\n",
    "F2 = Fraction(5, 6)\n",
    "F3 = F1 + F2\n",
    "F4 = F1 * F2\n",
    "F5 = F1 + 2\n",
    "F6 = F1 * 2\n",
    "print('F1:', F1, 'F2:', F2, 'F3:', F3, 'F4:', F4, 'F5:', F5, 'F6:', F6)"
   ]
  }
 ],
 "metadata": {
  "kernelspec": {
   "display_name": "venv",
   "language": "python",
   "name": "python3"
  },
  "language_info": {
   "codemirror_mode": {
    "name": "ipython",
    "version": 3
   },
   "file_extension": ".py",
   "mimetype": "text/x-python",
   "name": "python",
   "nbconvert_exporter": "python",
   "pygments_lexer": "ipython3",
   "version": "3.12.3"
  }
 },
 "nbformat": 4,
 "nbformat_minor": 2
}
