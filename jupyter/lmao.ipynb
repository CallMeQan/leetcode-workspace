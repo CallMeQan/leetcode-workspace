{
 "cells": [
  {
   "cell_type": "code",
   "execution_count": null,
   "metadata": {},
   "outputs": [],
   "source": [
    "def generate_sha256_hash(password):\n",
    "    import hashlib\n",
    "    return hashlib.sha256(password.encode()).hexdigest()\n",
    "\n",
    "def allocate_memory(n):\n",
    "    size = 2 ** n\n",
    "    memory = [generate_sha256_hash(\"djtmemay\")] * size\n",
    "    return memory\n",
    "\n",
    "# Example usage\n",
    "n = int(input(\"Enter the value of n: \"))\n",
    "memory = allocate_memory(n)\n",
    "print(f\"Allocated memory of size: {len(memory)}\")"
   ]
  }
 ],
 "metadata": {
  "kernelspec": {
   "display_name": "Python 3",
   "language": "python",
   "name": "python3"
  },
  "language_info": {
   "codemirror_mode": {
    "name": "ipython",
    "version": 3
   },
   "file_extension": ".py",
   "mimetype": "text/x-python",
   "name": "python",
   "nbconvert_exporter": "python",
   "pygments_lexer": "ipython3",
   "version": "3.12.7"
  }
 },
 "nbformat": 4,
 "nbformat_minor": 2
}
