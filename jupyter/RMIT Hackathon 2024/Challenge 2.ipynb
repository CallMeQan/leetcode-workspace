{
 "cells": [
  {
   "cell_type": "markdown",
   "metadata": {},
   "source": [
    "### Install required package to encrypt and decrypt"
   ]
  },
  {
   "cell_type": "code",
   "execution_count": 11,
   "metadata": {},
   "outputs": [
    {
     "name": "stdout",
     "output_type": "stream",
     "text": [
      "Requirement already satisfied: cryptography in d:\\workspace\\leetcode-workspace\\venv\\lib\\site-packages (43.0.3)\n",
      "Requirement already satisfied: cffi>=1.12 in d:\\workspace\\leetcode-workspace\\venv\\lib\\site-packages (from cryptography) (1.17.1)\n",
      "Requirement already satisfied: pycparser in d:\\workspace\\leetcode-workspace\\venv\\lib\\site-packages (from cffi>=1.12->cryptography) (2.22)\n"
     ]
    }
   ],
   "source": [
    "!pip3 install cryptography"
   ]
  },
  {
   "cell_type": "code",
   "execution_count": 12,
   "metadata": {},
   "outputs": [],
   "source": [
    "from cryptography.hazmat.backends import default_backend\n",
    "from cryptography.hazmat.primitives.ciphers import Cipher, algorithms, modes\n",
    "from cryptography.hazmat.primitives import padding\n",
    "from cryptography.hazmat.primitives.kdf.pbkdf2 import PBKDF2HMAC\n",
    "from cryptography.hazmat.primitives import hashes\n",
    "import os\n",
    "import base64"
   ]
  },
  {
   "cell_type": "code",
   "execution_count": 13,
   "metadata": {},
   "outputs": [],
   "source": [
    "# Generate a key from a password\n",
    "def generate_key(password, salt):\n",
    "    kdf = PBKDF2HMAC(\n",
    "        algorithm=hashes.SHA256(),\n",
    "        length=32,\n",
    "        salt=salt,\n",
    "        iterations=100000,\n",
    "        backend=default_backend()\n",
    "    )\n",
    "    key = kdf.derive(password.encode())\n",
    "    return key"
   ]
  },
  {
   "cell_type": "code",
   "execution_count": 14,
   "metadata": {},
   "outputs": [],
   "source": [
    "# Encrypt the message\n",
    "def encrypt_message(key, message):\n",
    "    iv = os.urandom(16)\n",
    "    cipher = Cipher(algorithms.AES(key), modes.CBC(iv), backend=default_backend())\n",
    "    encryptor = cipher.encryptor()\n",
    "    \n",
    "    # Padding the message to match block size (16 bytes)\n",
    "    padder = padding.PKCS7(algorithms.AES.block_size).padder()\n",
    "    padded_message = padder.update(message.encode()) + padder.finalize()\n",
    "\n",
    "    encrypted_message = encryptor.update(padded_message) + encryptor.finalize()\n",
    "\n",
    "    # Return the IV and encrypted message, both base64-encoded\n",
    "    return base64.b64encode(iv + encrypted_message).decode()"
   ]
  },
  {
   "cell_type": "code",
   "execution_count": 15,
   "metadata": {},
   "outputs": [],
   "source": [
    "# Decrypt the message\n",
    "def decrypt_message(key, encrypted_message):\n",
    "    encrypted_message = base64.b64decode(encrypted_message.encode())\n",
    "    iv = encrypted_message[:16]\n",
    "    cipher = Cipher(algorithms.AES(key), modes.CBC(iv), backend=default_backend())\n",
    "    decryptor = cipher.decryptor()\n",
    "\n",
    "    decrypted_message = decryptor.update(encrypted_message[16:]) + decryptor.finalize()\n",
    "\n",
    "    # Unpad the message to original form\n",
    "    unpadder = padding.PKCS7(algorithms.AES.block_size).unpadder()\n",
    "    unpadded_message = unpadder.update(decrypted_message) + unpadder.finalize()\n",
    "\n",
    "    return unpadded_message.decode()"
   ]
  },
  {
   "cell_type": "code",
   "execution_count": 16,
   "metadata": {},
   "outputs": [],
   "source": [
    "password = \"rmit#%hackathon#group$binhduong\"\n",
    "\n",
    "salt = os.urandom(16)\n",
    "\n",
    "message = \"Welcome to RMIT Hackathon 2024 from group Binh Duong\"\n",
    "\n",
    "key = generate_key(password, salt)\n",
    "\n",
    "assert key is not None"
   ]
  },
  {
   "cell_type": "code",
   "execution_count": 17,
   "metadata": {},
   "outputs": [
    {
     "name": "stdout",
     "output_type": "stream",
     "text": [
      "Encrypted: /w9OyHzGlA4g0fcI475T6OW+yfrXM7i3desqtaMONW7F3KLoiJMfM9PbEbDdqLLRzgRJDGijAiXg4uBJYY0evaFu08CfnkUuIQOCd9BslHg=\n",
      "Decrypted: Welcome to RMIT Hackathon 2024 from group Binh Duong\n"
     ]
    }
   ],
   "source": [
    "encrypted_message = encrypt_message(key, message)\n",
    "print(f\"Encrypted: {encrypted_message}\")\n",
    "\n",
    "decrypted_message = decrypt_message(key, encrypted_message)\n",
    "print(f\"Decrypted: {decrypted_message}\")"
   ]
  },
  {
   "cell_type": "code",
   "execution_count": 20,
   "metadata": {},
   "outputs": [
    {
     "name": "stdout",
     "output_type": "stream",
     "text": [
      "Encrypted message : Rs7nsgCE2cMfBAtTO09XxQmnEV3F6EyphUZntGwcTv90kF733sJve+UvL5ALTT6N\n",
      "Decrypted message : Hi, how are you!\n",
      "Response Status : 200\n",
      "Role : assistant\n",
      "Message : DfhInoCsdTm/4bHm52CQnmpvqY0HD1CS/FvecPwG0gzUXCvBCvpGuyVLpQ+p28SvR7b9bASh6AMPyLgxAoDsnP9UA3JwjuviNRSlewc+oL3aulPJUHviGcDaSbagoDsRkSF96VawljDvY7mTe+WhCHE7tEdUMbKnSloKx9nl/tXwHATkpdnDzYpMFKZC8D6iwbyFpy/AXScEWWl2wJMtxCmzMv8duEByj4G990P3haGL+tvYE/AIkBV3INxY00EuhWDYBrB0BkE8vZMGVhEoppIetDKCnVzhwe8Y/vAdN/4OHJPGXKjn2DlWi94iSYDA6KmoZ/xPTGGa9fLw5RHl6qn1sxx2f+/blo0jXwhQTkda6L9CussMxsCd8v8s1QnG/Hp0A0VhxZFNm9fPPuBKB6dsgC/pSDpmqRXjRaDCOdtQOgdpSYfc4WBx+JXTfB/y\n",
      "Decrypted\n",
      "I'm an AI assistant that's been working on your site for years. I'm here to help you with your questions and help you understand how you feel about your site. I'll do my best to provide accurate and helpful responses while ensuring that I don't make any mistakes or promote any harmful or unethical content.\n",
      "\n"
     ]
    }
   ],
   "source": [
    "import requests\n",
    "import json\n",
    "\n",
    "\n",
    "\n",
    "api_key = 'voy-5uh12i196p8rqqgo3pbdmoaj1teit9clgk9ujkk0n91o'\n",
    "\n",
    "url = 'http://3.27.163.79:8000/v1/chat/completions'\n",
    "\n",
    "headers = {\n",
    "    'Authorization': f'Bearer {api_key}',\n",
    "    'Content-Type': 'application/json',\n",
    "    'Accept': 'application/json'\n",
    "}\n",
    "\n",
    "\n",
    "\n",
    "def send_chat_message(message):\n",
    "    decrypted_message = decrypt_message(key, message)\n",
    "    print(f'Decrypted message : {decrypted_message}')\n",
    "    payload = {\n",
    "        'messages': [\n",
    "            {\n",
    "                \"role\": \"system\",\n",
    "                \"content\": \"You are a helpful assistant who helps users solve their questions.\"\n",
    "            },\n",
    "            {\n",
    "                \"role\": \"user\",\n",
    "                \"content\": decrypted_message\n",
    "            }\n",
    "        ]\n",
    "    }\n",
    "\n",
    "    try:\n",
    "        response = requests.post(url, json=payload, headers=headers)\n",
    "        response.raise_for_status()\n",
    "        if response.status_code == 200:\n",
    "            try:\n",
    "                json_response = response.json()\n",
    "                print(f'Response Status : {response.status_code}')\n",
    "                print('Role : ',end='')\n",
    "                print(json_response['choices'][0]['message']['role'])\n",
    "                print('Message : ',end='')\n",
    "\n",
    "                encrRes = encrypt_message(key,json_response['choices'][0]['message']['content'])\n",
    "                print(encrRes)\n",
    "                print('Decrypted')\n",
    "                print(decrypt_message(key, encrRes))\n",
    "\n",
    "            except json.JSONDecodeError as e:\n",
    "                print(f'Response Status : {response.status_code}')\n",
    "                print(e)\n",
    "        else:\n",
    "            print(f'Response Status : {response.status_code}')\n",
    "    except requests.exceptions.RequestException as e:\n",
    "        print(e)\n",
    "\n",
    "message = 'Hi, how are you!'\n",
    "encrypted_message = encrypt_message(key, message)\n",
    "\n",
    "print(f'Encrypted message : {encrypted_message}')\n",
    "send_chat_message(encrypted_message)"
   ]
  }
 ],
 "metadata": {
  "kernelspec": {
   "display_name": "venv",
   "language": "python",
   "name": "python3"
  },
  "language_info": {
   "codemirror_mode": {
    "name": "ipython",
    "version": 3
   },
   "file_extension": ".py",
   "mimetype": "text/x-python",
   "name": "python",
   "nbconvert_exporter": "python",
   "pygments_lexer": "ipython3",
   "version": "3.12.3"
  }
 },
 "nbformat": 4,
 "nbformat_minor": 2
}
