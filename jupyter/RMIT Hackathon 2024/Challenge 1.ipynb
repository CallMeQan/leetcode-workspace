{
 "cells": [
  {
   "cell_type": "markdown",
   "metadata": {},
   "source": [
    "# Overview of tasks and notebook's structure\n",
    "The goal of this challenge is to deploy an open-source project from SkywardAI on AWS, making it publicly accessible. As mentioned in the description of this challenge, the project has 5 main steps to follow.\n",
    "\n",
    "- Set up an AWS account and clone [voyager](https://github.com/SkywardAI/voyager.git) project\n",
    "\n",
    "- Deploy on EC2 and Configure Public Access\n",
    "\n",
    "- Test API Access and Kaggle Compatibility\n",
    "\n",
    "As we already done setup server and run the code below"
   ]
  },
  {
   "cell_type": "code",
   "execution_count": 3,
   "metadata": {},
   "outputs": [],
   "source": [
    "import requests as req\n",
    "\n",
    "root_url = \"http://3.27.163.79:8000\"\n",
    "\n",
    "endpoints = ['/',\n",
    " '/stats',\n",
    " '/healthy',\n",
    " '/chatbox',\n",
    " '/v1/chat/completions',\n",
    " '/v1/chat/rag-completions',\n",
    " '/v1/token/api-key',\n",
    " '/v1/embeddings',\n",
    " '/v1/embeddings/dataset',\n",
    " '/v1/version'\n",
    "]\n",
    "\n",
    "def get_request(url: str = f'{root_url}{endpoints[0]}'):\n",
    "    payload = {}\n",
    "    headers = {'accept': 'application/json'}\n",
    "\n",
    "    response = req.request(\"GET\", url, headers=headers, data=payload)\n",
    "\n",
    "    if response.status_code == 200:\n",
    "        return response.status_code\n",
    "    else:\n",
    "        return {\n",
    "        'error': response.status_code,\n",
    "        'message': response.text\n",
    "        }"
   ]
  },
  {
   "cell_type": "code",
   "execution_count": 5,
   "metadata": {},
   "outputs": [
    {
     "name": "stdout",
     "output_type": "stream",
     "text": [
      "Requesting http://3.27.163.79:8000/...\n",
      "200\n",
      "Requesting http://3.27.163.79:8000/stats...\n",
      "200\n",
      "Requesting http://3.27.163.79:8000/healthy...\n",
      "200\n",
      "Requesting http://3.27.163.79:8000/chatbox...\n",
      "200\n",
      "Requesting http://3.27.163.79:8000/v1/chat/completions...\n",
      "200\n",
      "Requesting http://3.27.163.79:8000/v1/chat/rag-completions...\n",
      "200\n",
      "Requesting http://3.27.163.79:8000/v1/token/api-key...\n",
      "200\n",
      "Requesting http://3.27.163.79:8000/v1/embeddings...\n",
      "200\n",
      "Requesting http://3.27.163.79:8000/v1/embeddings/dataset...\n",
      "200\n",
      "Requesting http://3.27.163.79:8000/v1/version...\n",
      "200\n"
     ]
    }
   ],
   "source": [
    "# Loop through each endpoint and make a request\n",
    "for endpoint in endpoints:\n",
    "    url = f'{root_url}{endpoint}'\n",
    "    print(f\"Requesting {url}...\")\n",
    "    print(get_request(url))  # Call the function and print the response"
   ]
  }
 ],
 "metadata": {
  "kernelspec": {
   "display_name": "venv",
   "language": "python",
   "name": "python3"
  },
  "language_info": {
   "codemirror_mode": {
    "name": "ipython",
    "version": 3
   },
   "file_extension": ".py",
   "mimetype": "text/x-python",
   "name": "python",
   "nbconvert_exporter": "python",
   "pygments_lexer": "ipython3",
   "version": "3.12.3"
  }
 },
 "nbformat": 4,
 "nbformat_minor": 2
}
